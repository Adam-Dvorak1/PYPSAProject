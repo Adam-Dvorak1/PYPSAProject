{
 "cells": [
  {
   "cell_type": "markdown",
   "metadata": {},
   "source": [
    "###### Aarhus University - Fall 2021 - Renewable Energy Systems (RES) project \n",
    "\n",
    "This notebook includes the steps to optimize the capacity and dispatch of generators in the power system of one country.\n",
    "Make sure that you understand every step in this notebook. For the project of the course Renewable Energy Systems (RES) you need to deliver a report including the sections described at the end of this notebook."
   ]
  },
  {
   "cell_type": "code",
   "execution_count": 162,
   "metadata": {},
   "outputs": [],
   "source": [
    "import pypsa"
   ]
  },
  {
   "cell_type": "markdown",
   "metadata": {},
   "source": [
    "Pandas package is very useful to work with imported data, time series, matrices ...\n",
    "\n",
    "You can find a 10-minutes guide to pandas in the following link\n",
    "https://pandas.pydata.org/pandas-docs/stable/user_guide/10min.html"
   ]
  },
  {
   "cell_type": "code",
   "execution_count": 163,
   "metadata": {},
   "outputs": [],
   "source": [
    "import pandas as pd"
   ]
  },
  {
   "cell_type": "markdown",
   "metadata": {},
   "source": [
    "We start by creating the network. In this example, the country is modelled as a single node, so the network will only include one bus.\n",
    "\n",
    "We select the year 2015 and set the hours in that year as snapshots.\n",
    "\n",
    "We select a country, in this case, Spain (ESP), and add one node (electricity bus) to the network."
   ]
  },
  {
   "cell_type": "code",
   "execution_count": 164,
   "metadata": {},
   "outputs": [
    {
     "data": {
      "text/plain": [
       "DatetimeIndex(['2011-01-01 00:00:00', '2011-01-01 01:00:00',\n",
       "               '2011-01-01 02:00:00', '2011-01-01 03:00:00',\n",
       "               '2011-01-01 04:00:00', '2011-01-01 05:00:00',\n",
       "               '2011-01-01 06:00:00', '2011-01-01 07:00:00',\n",
       "               '2011-01-01 08:00:00', '2011-01-01 09:00:00',\n",
       "               ...\n",
       "               '2011-12-31 14:00:00', '2011-12-31 15:00:00',\n",
       "               '2011-12-31 16:00:00', '2011-12-31 17:00:00',\n",
       "               '2011-12-31 18:00:00', '2011-12-31 19:00:00',\n",
       "               '2011-12-31 20:00:00', '2011-12-31 21:00:00',\n",
       "               '2011-12-31 22:00:00', '2011-12-31 23:00:00'],\n",
       "              dtype='datetime64[ns]', name='snapshot', length=8760, freq='H')"
      ]
     },
     "execution_count": 164,
     "metadata": {},
     "output_type": "execute_result"
    }
   ],
   "source": [
    "network = pypsa.Network()\n",
    "hours_in_2011 = pd.date_range('2011-01-01T00:00:00','2011-12-31T23:00:00', freq='H') #I changed the date rate from Z\n",
    "network.set_snapshots(hours_in_2011)\n",
    "\n",
    "network.add(\"Bus\",\"electricity bus\")\n",
    "\n",
    "network.snapshots"
   ]
  },
  {
   "cell_type": "markdown",
   "metadata": {},
   "source": [
    "The demand is represented by the historical electricity demand in 2015 with hourly resolution. \n",
    "\n",
    "The file with historical hourly electricity demand for every European country is available in the data folder.\n",
    "\n",
    "The electricity demand time series were obtained from ENTSOE through the very convenient compilation carried out by the Open Power System Data (OPSD). https://data.open-power-system-data.org/time_series/"
   ]
  },
  {
   "cell_type": "code",
   "execution_count": 165,
   "metadata": {},
   "outputs": [
    {
     "name": "stdout",
     "output_type": "stream",
     "text": [
      "Column 1\n",
      "2011-01-01 00:00:00    8329.4\n",
      "2011-01-01 01:00:00    8249.3\n",
      "2011-01-01 02:00:00    7971.8\n",
      "2011-01-01 03:00:00    7733.7\n",
      "2011-01-01 04:00:00    7460.6\n",
      "Name: demand_mwh, dtype: float64\n"
     ]
    }
   ],
   "source": [
    "# load electricity demand data\n",
    "df_elec = pd.read_csv('data_extra/ColoradoTimeSeries.csv', index_col=0) # in MWh\n",
    "df_elec.index = pd.to_datetime(df_elec.index) #change index to datatime\n",
    "print(df_elec['demand_mwh'].head())"
   ]
  },
  {
   "cell_type": "code",
   "execution_count": 166,
   "metadata": {},
   "outputs": [],
   "source": [
    "# add load to the bus\n",
    "network.add(\"Load\",\n",
    "            \"load\", \n",
    "            bus=\"electricity bus\", \n",
    "            p_set=df_elec['demand_mwh'])"
   ]
  },
  {
   "cell_type": "markdown",
   "metadata": {},
   "source": [
    "Print the load time series to check that it has been properly added (you should see numbers and not 'NaN')"
   ]
  },
  {
   "cell_type": "code",
   "execution_count": 167,
   "metadata": {},
   "outputs": [
    {
     "data": {
      "text/html": [
       "<div>\n",
       "<style scoped>\n",
       "    .dataframe tbody tr th:only-of-type {\n",
       "        vertical-align: middle;\n",
       "    }\n",
       "\n",
       "    .dataframe tbody tr th {\n",
       "        vertical-align: top;\n",
       "    }\n",
       "\n",
       "    .dataframe thead th {\n",
       "        text-align: right;\n",
       "    }\n",
       "</style>\n",
       "<table border=\"1\" class=\"dataframe\">\n",
       "  <thead>\n",
       "    <tr style=\"text-align: right;\">\n",
       "      <th></th>\n",
       "      <th>load</th>\n",
       "    </tr>\n",
       "    <tr>\n",
       "      <th>snapshot</th>\n",
       "      <th></th>\n",
       "    </tr>\n",
       "  </thead>\n",
       "  <tbody>\n",
       "    <tr>\n",
       "      <th>2011-01-01 00:00:00</th>\n",
       "      <td>8329.4</td>\n",
       "    </tr>\n",
       "    <tr>\n",
       "      <th>2011-01-01 01:00:00</th>\n",
       "      <td>8249.3</td>\n",
       "    </tr>\n",
       "    <tr>\n",
       "      <th>2011-01-01 02:00:00</th>\n",
       "      <td>7971.8</td>\n",
       "    </tr>\n",
       "    <tr>\n",
       "      <th>2011-01-01 03:00:00</th>\n",
       "      <td>7733.7</td>\n",
       "    </tr>\n",
       "    <tr>\n",
       "      <th>2011-01-01 04:00:00</th>\n",
       "      <td>7460.6</td>\n",
       "    </tr>\n",
       "    <tr>\n",
       "      <th>...</th>\n",
       "      <td>...</td>\n",
       "    </tr>\n",
       "    <tr>\n",
       "      <th>2011-12-31 19:00:00</th>\n",
       "      <td>7254.1</td>\n",
       "    </tr>\n",
       "    <tr>\n",
       "      <th>2011-12-31 20:00:00</th>\n",
       "      <td>7190.2</td>\n",
       "    </tr>\n",
       "    <tr>\n",
       "      <th>2011-12-31 21:00:00</th>\n",
       "      <td>7121.2</td>\n",
       "    </tr>\n",
       "    <tr>\n",
       "      <th>2011-12-31 22:00:00</th>\n",
       "      <td>7245.0</td>\n",
       "    </tr>\n",
       "    <tr>\n",
       "      <th>2011-12-31 23:00:00</th>\n",
       "      <td>7663.4</td>\n",
       "    </tr>\n",
       "  </tbody>\n",
       "</table>\n",
       "<p>8760 rows × 1 columns</p>\n",
       "</div>"
      ],
      "text/plain": [
       "                       load\n",
       "snapshot                   \n",
       "2011-01-01 00:00:00  8329.4\n",
       "2011-01-01 01:00:00  8249.3\n",
       "2011-01-01 02:00:00  7971.8\n",
       "2011-01-01 03:00:00  7733.7\n",
       "2011-01-01 04:00:00  7460.6\n",
       "...                     ...\n",
       "2011-12-31 19:00:00  7254.1\n",
       "2011-12-31 20:00:00  7190.2\n",
       "2011-12-31 21:00:00  7121.2\n",
       "2011-12-31 22:00:00  7245.0\n",
       "2011-12-31 23:00:00  7663.4\n",
       "\n",
       "[8760 rows x 1 columns]"
      ]
     },
     "execution_count": 167,
     "metadata": {},
     "output_type": "execute_result"
    }
   ],
   "source": [
    "network.loads_t.p_set"
   ]
  },
  {
   "cell_type": "markdown",
   "metadata": {},
   "source": [
    "In the optimization, we will minimize the annualized system costs.\n",
    "\n",
    "We will need to annualize the cost of every generator, we build a function to do it."
   ]
  },
  {
   "cell_type": "code",
   "execution_count": 168,
   "metadata": {},
   "outputs": [],
   "source": [
    "def annuity(n,r):\n",
    "    \"\"\"Calculate the annuity factor for an asset with lifetime n years and\n",
    "    discount rate of r, e.g. annuity(20,0.05)*20 = 1.6\"\"\"\n",
    "\n",
    "    if r > 0:\n",
    "        return r/(1. - 1./(1.+r)**n)\n",
    "    else:\n",
    "        return 1/n\n"
   ]
  },
  {
   "cell_type": "markdown",
   "metadata": {},
   "source": [
    "We include solar PV and onshore wind generators. \n",
    "\n",
    "The capacity factors representing the availability of those generators for every European country can be downloaded from the following repositories (select 'optimal' for PV and onshore for wind). \n",
    "\n",
    "https://zenodo.org/record/3253876#.XSiVOEdS8l0\n",
    "\n",
    "https://zenodo.org/record/2613651#.XSiVOkdS8l0\n",
    "\n",
    "We include also Open Cycle Gas Turbine (OCGT) generators\n",
    "\n",
    "The cost assumed for the generators are the same as in the paper https://doi.org/10.1016/j.enconman.2019.111977 (open version:  https://arxiv.org/pdf/1906.06936.pdf)"
   ]
  },
  {
   "cell_type": "code",
   "execution_count": 169,
   "metadata": {},
   "outputs": [],
   "source": [
    "# add the different carriers, only gas emits CO2\n",
    "network.add(\"Carrier\", \"gas\", co2_emissions=0.19) # in t_CO2/MWh_th\n",
    "network.add(\"Carrier\", \"onshorewind\")\n",
    "network.add(\"Carrier\", \"solar\")\n",
    "\n",
    "# add onshore wind generator\n",
    "df_onshorewind = pd.read_csv('data_extra/ColoradoTimeSeries.csv', index_col=0)\n",
    "df_onshorewind.index = pd.to_datetime(df_onshorewind.index)\n",
    "CF_wind = df_onshorewind['onwind'][[hour.strftime(\"%Y-%m-%dT%H:%M:%S\") for hour in network.snapshots]]\n",
    "capital_cost_onshorewind = annuity(30,0.07)*910000*(1+0.033) # in €/MW #Where are these numbers coming from?\n",
    "#More specifically, where does the 0.07 and the 1000 multiplying the 910000 come from?\n",
    "network.add(\"Generator\",\n",
    "            \"onshorewind\",\n",
    "            bus=\"electricity bus\",\n",
    "            p_nom_extendable=True,\n",
    "            carrier=\"onshorewind\",\n",
    "            #p_nom_max=1000, # maximum capacity can be limited due to environmental constraints\n",
    "            capital_cost = capital_cost_onshorewind,\n",
    "            marginal_cost = 0,\n",
    "            p_max_pu = CF_wind) #Does this add?\n",
    "#is p_max_pu the maximum amount wind can contribute?\n",
    "\n",
    "# add solar PV generator\n",
    "df_solar = pd.read_csv('data_extra/ColoradoTimeSeries.csv', index_col=0)\n",
    "df_solar.index = pd.to_datetime(df_solar.index)\n",
    "CF_solar = df_solar['solar'][[hour.strftime(\"%Y-%m-%dT%H:%M:%S\") for hour in network.snapshots]]\n",
    "#capital_cost_solar = annuity(25,0.07)*425000*(1+0.03) # in €/MW\n",
    "capital_cost_solar = 0\n",
    "network.add(\"Generator\",\n",
    "            \"solar\",\n",
    "            bus=\"electricity bus\",\n",
    "            p_nom_extendable=True,\n",
    "            carrier=\"solar\",\n",
    "            #p_nom_max=1000, # maximum capacity can be limited due to environmental constraints\n",
    "            capital_cost = capital_cost_solar,\n",
    "            marginal_cost = 0,\n",
    "            p_max_pu = CF_solar)\n",
    "\n",
    "# add OCGT (Open Cycle Gas Turbine) generator\n",
    "capital_cost_OCGT = annuity(25,0.07)*560000*(1+0.033) # in €/MW\n",
    "fuel_cost = 21.6 # in €/MWh_th\n",
    "efficiency = 0.39\n",
    "marginal_cost_OCGT = fuel_cost/efficiency # in €/MWh_el\n",
    "network.add(\"Generator\",\n",
    "            \"OCGT\",\n",
    "            bus=\"electricity bus\",\n",
    "            p_nom_extendable=True,\n",
    "            carrier=\"gas\",\n",
    "            #p_nom_max=1000,\n",
    "            capital_cost = capital_cost_OCGT,\n",
    "            marginal_cost = marginal_cost_OCGT)"
   ]
  },
  {
   "cell_type": "code",
   "execution_count": null,
   "metadata": {},
   "outputs": [],
   "source": []
  },
  {
   "cell_type": "markdown",
   "metadata": {},
   "source": [
    "Print the generator Capacity factor time series to check that it has been properly added (you should see numbers and not 'NaN')"
   ]
  },
  {
   "cell_type": "code",
   "execution_count": 170,
   "metadata": {},
   "outputs": [
    {
     "data": {
      "text/html": [
       "<div>\n",
       "<style scoped>\n",
       "    .dataframe tbody tr th:only-of-type {\n",
       "        vertical-align: middle;\n",
       "    }\n",
       "\n",
       "    .dataframe tbody tr th {\n",
       "        vertical-align: top;\n",
       "    }\n",
       "\n",
       "    .dataframe thead th {\n",
       "        text-align: right;\n",
       "    }\n",
       "</style>\n",
       "<table border=\"1\" class=\"dataframe\">\n",
       "  <thead>\n",
       "    <tr style=\"text-align: right;\">\n",
       "      <th></th>\n",
       "      <th>onshorewind</th>\n",
       "      <th>solar</th>\n",
       "    </tr>\n",
       "    <tr>\n",
       "      <th>snapshot</th>\n",
       "      <th></th>\n",
       "      <th></th>\n",
       "    </tr>\n",
       "  </thead>\n",
       "  <tbody>\n",
       "    <tr>\n",
       "      <th>2011-01-01 00:00:00</th>\n",
       "      <td>0.460</td>\n",
       "      <td>0.000</td>\n",
       "    </tr>\n",
       "    <tr>\n",
       "      <th>2011-01-01 01:00:00</th>\n",
       "      <td>0.430</td>\n",
       "      <td>0.000</td>\n",
       "    </tr>\n",
       "    <tr>\n",
       "      <th>2011-01-01 02:00:00</th>\n",
       "      <td>0.406</td>\n",
       "      <td>0.000</td>\n",
       "    </tr>\n",
       "    <tr>\n",
       "      <th>2011-01-01 03:00:00</th>\n",
       "      <td>0.380</td>\n",
       "      <td>0.000</td>\n",
       "    </tr>\n",
       "    <tr>\n",
       "      <th>2011-01-01 04:00:00</th>\n",
       "      <td>0.357</td>\n",
       "      <td>0.000</td>\n",
       "    </tr>\n",
       "    <tr>\n",
       "      <th>...</th>\n",
       "      <td>...</td>\n",
       "      <td>...</td>\n",
       "    </tr>\n",
       "    <tr>\n",
       "      <th>2011-12-31 19:00:00</th>\n",
       "      <td>0.947</td>\n",
       "      <td>0.645</td>\n",
       "    </tr>\n",
       "    <tr>\n",
       "      <th>2011-12-31 20:00:00</th>\n",
       "      <td>0.939</td>\n",
       "      <td>0.655</td>\n",
       "    </tr>\n",
       "    <tr>\n",
       "      <th>2011-12-31 21:00:00</th>\n",
       "      <td>0.930</td>\n",
       "      <td>0.640</td>\n",
       "    </tr>\n",
       "    <tr>\n",
       "      <th>2011-12-31 22:00:00</th>\n",
       "      <td>0.904</td>\n",
       "      <td>0.570</td>\n",
       "    </tr>\n",
       "    <tr>\n",
       "      <th>2011-12-31 23:00:00</th>\n",
       "      <td>0.869</td>\n",
       "      <td>0.457</td>\n",
       "    </tr>\n",
       "  </tbody>\n",
       "</table>\n",
       "<p>8760 rows × 2 columns</p>\n",
       "</div>"
      ],
      "text/plain": [
       "                     onshorewind  solar\n",
       "snapshot                               \n",
       "2011-01-01 00:00:00        0.460  0.000\n",
       "2011-01-01 01:00:00        0.430  0.000\n",
       "2011-01-01 02:00:00        0.406  0.000\n",
       "2011-01-01 03:00:00        0.380  0.000\n",
       "2011-01-01 04:00:00        0.357  0.000\n",
       "...                          ...    ...\n",
       "2011-12-31 19:00:00        0.947  0.645\n",
       "2011-12-31 20:00:00        0.939  0.655\n",
       "2011-12-31 21:00:00        0.930  0.640\n",
       "2011-12-31 22:00:00        0.904  0.570\n",
       "2011-12-31 23:00:00        0.869  0.457\n",
       "\n",
       "[8760 rows x 2 columns]"
      ]
     },
     "execution_count": 170,
     "metadata": {},
     "output_type": "execute_result"
    }
   ],
   "source": [
    "network.generators_t.p_max_pu"
   ]
  },
  {
   "cell_type": "markdown",
   "metadata": {},
   "source": [
    "We solve the linear optimal power flow (lopf) using Gurobi as solver.\n",
    "\n",
    "In this case, we are optimising the installed capacity and dispatch of every generator to minimize the total system cost."
   ]
  },
  {
   "cell_type": "code",
   "execution_count": 171,
   "metadata": {},
   "outputs": [
    {
     "name": "stderr",
     "output_type": "stream",
     "text": [
      "INFO:pypsa.linopf:Prepare linear problem\n",
      "INFO:pypsa.linopf:Total preparation time: 0.99s\n",
      "INFO:pypsa.linopf:Solve linear problem using Gurobi solver\n"
     ]
    },
    {
     "name": "stdout",
     "output_type": "stream",
     "text": [
      "Read LP format model from file /var/folders/x3/vnc5_2m96vsfhyjnwg076wzr0000gn/T/pypsa-problem-zobdv8lc.lp\n",
      "Reading time = 0.14 seconds\n",
      "obj: 61320 rows, 26284 columns, 100693 nonzeros\n",
      "Gurobi Optimizer version 9.1.2 build v9.1.2rc0 (mac64)\n",
      "Thread count: 4 physical cores, 8 logical processors, using up to 8 threads\n",
      "Optimize a model with 61320 rows, 26284 columns and 100693 nonzeros\n",
      "Model fingerprint: 0x1cd61ab9\n",
      "Coefficient statistics:\n",
      "  Matrix range     [1e-03, 1e+00]\n",
      "  Objective range  [1e+00, 8e+04]\n",
      "  Bounds range     [0e+00, 0e+00]\n",
      "  RHS range        [5e+03, 1e+04]\n",
      "\n",
      "Concurrent LP optimizer: dual simplex and barrier\n",
      "Showing barrier log only...\n",
      "\n",
      "Presolve removed 52466 rows and 21855 columns\n",
      "Presolve time: 0.05s\n",
      "Presolved: 8854 rows, 4429 columns, 17708 nonzeros\n",
      "\n",
      "Ordering time: 0.00s\n",
      "\n",
      "Barrier statistics:\n",
      " Dense cols : 2\n",
      " AA' NZ     : 1.328e+04\n",
      " Factor NZ  : 3.099e+04 (roughly 6 MBytes of memory)\n",
      " Factor Ops : 1.107e+05 (less than 1 second per iteration)\n",
      " Threads    : 1\n",
      "\n",
      "                  Objective                Residual\n",
      "Iter       Primal          Dual         Primal    Dual     Compl     Time\n",
      "   0   4.58242482e+08 -5.76464218e+10  1.71e+03 1.36e-12  2.22e+07     0s\n",
      "   1   3.89074647e+09 -3.17540101e+10  4.22e+01 1.79e+03  3.14e+06     0s\n",
      "   2   3.41746123e+09  1.28290219e+09  0.00e+00 9.03e+00  1.26e+05     0s\n",
      "   3   2.52533913e+09  1.67148890e+09  0.00e+00 1.65e-12  4.83e+04     0s\n",
      "   4   2.51723584e+09  1.87203927e+09  0.00e+00 4.09e-12  3.65e+04     0s\n",
      "   5   2.29628965e+09  1.92997186e+09  0.00e+00 1.17e-11  2.07e+04     0s\n",
      "   6   2.23988400e+09  1.95510298e+09  0.00e+00 3.30e-11  1.61e+04     0s\n",
      "   7   2.14879603e+09  2.05929832e+09  0.00e+00 1.97e-11  5.06e+03     0s\n",
      "   8   2.11761396e+09  2.09395635e+09  0.00e+00 2.39e-12  1.34e+03     0s\n",
      "   9   2.10877165e+09  2.09790431e+09  0.00e+00 2.40e-11  6.14e+02     0s\n",
      "  10   2.10444282e+09  2.09861820e+09  0.00e+00 6.31e-12  3.29e+02     0s\n",
      "  11   2.10257526e+09  2.09939823e+09  0.00e+00 6.25e-13  1.79e+02     0s\n",
      "  12   2.10193084e+09  2.09963565e+09  0.00e+00 1.25e-12  1.30e+02     0s\n",
      "  13   2.10134097e+09  2.09977659e+09  0.00e+00 4.55e-13  8.83e+01     0s\n",
      "  14   2.10077966e+09  2.09991879e+09  0.00e+00 1.71e-13  4.86e+01     0s\n",
      "  15   2.10027784e+09  2.10001295e+09  0.00e+00 1.14e-13  1.50e+01     0s\n",
      "  16   2.10027056e+09  2.10005077e+09  0.00e+00 1.14e-13  1.24e+01     0s\n",
      "  17   2.10021093e+09  2.10010797e+09  0.00e+00 5.85e-12  5.82e+00     0s\n",
      "  18   2.10021068e+09  2.10013945e+09  0.00e+00 6.65e-12  4.02e+00     0s\n",
      "  19   2.10021033e+09  2.10017302e+09  0.00e+00 6.19e-07  2.11e+00     0s\n",
      "  20   2.10020931e+09  2.10018682e+09  0.00e+00 3.84e-07  1.27e+00     0s\n",
      "  21   2.10020894e+09  2.10020887e+09  0.00e+00 2.91e-10  3.76e-03     0s\n",
      "  22   2.10020890e+09  2.10020890e+09  0.00e+00 1.98e-09  5.63e-06     0s\n",
      "  23   2.10020890e+09  2.10020890e+09  3.06e-13 1.28e-09  5.66e-12     0s\n",
      "\n",
      "Barrier solved model in 23 iterations and 0.17 seconds\n",
      "Optimal objective 2.10020890e+09\n",
      "\n",
      "\n",
      "Solved with dual simplex\n",
      "Solved in 829 iterations and 0.18 seconds\n",
      "Optimal objective  2.100208901e+09\n"
     ]
    },
    {
     "name": "stderr",
     "output_type": "stream",
     "text": [
      "INFO:pypsa.linopf:Optimization successful. Objective value: 2.10e+09\n"
     ]
    },
    {
     "data": {
      "text/plain": [
       "('ok', 'optimal')"
      ]
     },
     "execution_count": 171,
     "metadata": {},
     "output_type": "execute_result"
    }
   ],
   "source": [
    "network.lopf(network.snapshots, \n",
    "             pyomo=False,\n",
    "             solver_name='gurobi')"
   ]
  },
  {
   "cell_type": "markdown",
   "metadata": {},
   "source": [
    "The message \"Optimization successful\" indicates that the optimizer has found an optimal solution. \n",
    "\n",
    "The total cost can be read from the network objetive."
   ]
  },
  {
   "cell_type": "code",
   "execution_count": 172,
   "metadata": {},
   "outputs": [
    {
     "name": "stdout",
     "output_type": "stream",
     "text": [
      "load    32.747802\n",
      "dtype: float64\n"
     ]
    }
   ],
   "source": [
    "#print(network.objective/1000000) #in 10^6 €\n",
    "print(network.objective/network.loads_t.p.sum()) # €/MWh"
   ]
  },
  {
   "cell_type": "markdown",
   "metadata": {},
   "source": [
    "The optimal capacity for every generator can be shown."
   ]
  },
  {
   "cell_type": "code",
   "execution_count": 173,
   "metadata": {},
   "outputs": [
    {
     "data": {
      "text/plain": [
       "onshorewind    8.625241e+03\n",
       "solar          9.876900e+06\n",
       "OCGT           9.752748e+03\n",
       "Name: p_nom_opt, dtype: float64"
      ]
     },
     "execution_count": 173,
     "metadata": {},
     "output_type": "execute_result"
    }
   ],
   "source": [
    "network.generators.p_nom_opt # in MW"
   ]
  },
  {
   "cell_type": "markdown",
   "metadata": {},
   "source": [
    "We can plot now the dispatch of every generator during the first week of the year and the electricity demand.\n",
    "We import the matplotlib package which is very useful to plot results.\n",
    "\n",
    "We can also plot the electricity mix."
   ]
  },
  {
   "cell_type": "code",
   "execution_count": 137,
   "metadata": {},
   "outputs": [
    {
     "data": {
      "image/png": "[encoded data removed]",
      "text/plain": [
       "<Figure size 432x288 with 1 Axes>"
      ]
     },
     "metadata": {
      "needs_background": "light"
     },
     "output_type": "display_data"
    }
   ],
   "source": [
    "import matplotlib.pyplot as plt\n",
    "\n",
    "plt.plot(network.loads_t.p['load'][0:8760], color='black', label='demand')#these are the first 96 hours of data\n",
    "plt.plot(network.generators_t.p['onshorewind'][0:8760], color='blue', label='onshore wind')\n",
    "plt.plot(network.generators_t.p['solar'][0:8760], color='orange', label='solar')\n",
    "plt.plot(network.generators_t.p['OCGT'][0:8760], color='brown', label='gas (OCGT)')\n",
    "plt.legend(fancybox=True, shadow=True, loc='best')#at one point, demand perfectly matches onshore wind. However, this is not all the wind that is being produced, right?\n",
    "plt.savefig('Images/Colorado/TotalColoradoCost.png')"
   ]
  },
  {
   "cell_type": "code",
   "execution_count": 88,
   "metadata": {},
   "outputs": [
    {
     "data": {
      "image/png": "[encoded data removed]",
      "text/plain": [
       "<Figure size 432x288 with 1 Axes>"
      ]
     },
     "metadata": {
      "needs_background": "light"
     },
     "output_type": "display_data"
    }
   ],
   "source": [
    "plt.plot(network.loads_t.p['load'][5000:5096], color='black', label='demand')#these are 96 hours of data in the middle\n",
    "plt.plot(network.generators_t.p['onshorewind'][5000:5096], color='blue', label='onshore wind')\n",
    "plt.plot(network.generators_t.p['solar'][5000:5096], color='orange', label='solar')\n",
    "plt.plot(network.generators_t.p['OCGT'][5000:5096], color='brown', label='gas (OCGT)')\n",
    "plt.legend(fancybox=True, shadow=True, loc='best')\n",
    "plt.savefig('Images/ColoradoZeroCostJuly.png')"
   ]
  },
  {
   "cell_type": "markdown",
   "metadata": {},
   "source": [
    "Below is the same sort of time series but for the entire year"
   ]
  },
  {
   "cell_type": "code",
   "execution_count": null,
   "metadata": {},
   "outputs": [],
   "source": []
  },
  {
   "cell_type": "code",
   "execution_count": 89,
   "metadata": {},
   "outputs": [
    {
     "data": {
      "text/plain": [
       "Text(0.5, 1.07, 'Electricity mix')"
      ]
     },
     "execution_count": 89,
     "metadata": {},
     "output_type": "execute_result"
    },
    {
     "data": {
      "image/png": "[encoded data removed]",
      "text/plain": [
       "<Figure size 432x288 with 1 Axes>"
      ]
     },
     "metadata": {},
     "output_type": "display_data"
    }
   ],
   "source": [
    "labels = ['onshore wind', \n",
    "          'solar', \n",
    "          'gas (OCGT)']\n",
    "sizes = [network.generators_t.p['onshorewind'].sum(),\n",
    "         network.generators_t.p['solar'].sum(),\n",
    "         network.generators_t.p['OCGT'].sum()]\n",
    "\n",
    "colors=['blue', 'orange', 'brown']\n",
    "\n",
    "plt.pie(sizes, \n",
    "        colors=colors, \n",
    "        labels=labels, \n",
    "        wedgeprops={'linewidth':0})\n",
    "plt.axis('equal')\n",
    "\n",
    "plt.title('Electricity mix', y=1.07)"
   ]
  },
  {
   "cell_type": "markdown",
   "metadata": {},
   "source": [
    "We can add a global CO2 constraint and solve again."
   ]
  },
  {
   "cell_type": "code",
   "execution_count": 90,
   "metadata": {},
   "outputs": [],
   "source": [
    "co2_limit=400000 #tonCO2 #global as in system global\n",
    "network.add(\"GlobalConstraint\",\n",
    "            \"co2_limit\",\n",
    "            type=\"primary_energy\",\n",
    "            carrier_attribute=\"co2_emissions\",\n",
    "            sense=\"<=\",\n",
    "            constant=co2_limit)"
   ]
  },
  {
   "cell_type": "code",
   "execution_count": 91,
   "metadata": {},
   "outputs": [
    {
     "name": "stderr",
     "output_type": "stream",
     "text": [
      "INFO:pypsa.linopf:Prepare linear problem\n",
      "INFO:pypsa.linopf:Total preparation time: 1.02s\n",
      "INFO:pypsa.linopf:Solve linear problem using Gurobi solver\n"
     ]
    },
    {
     "name": "stdout",
     "output_type": "stream",
     "text": [
      "Read LP format model from file /var/folders/x3/vnc5_2m96vsfhyjnwg076wzr0000gn/T/pypsa-problem-_t42kk_6.lp\n",
      "Reading time = 0.14 seconds\n",
      "obj: 61321 rows, 26284 columns, 109453 nonzeros\n",
      "Gurobi Optimizer version 9.1.2 build v9.1.2rc0 (mac64)\n",
      "Thread count: 4 physical cores, 8 logical processors, using up to 8 threads\n",
      "Optimize a model with 61321 rows, 26284 columns and 109453 nonzeros\n",
      "Model fingerprint: 0x834009b8\n",
      "Coefficient statistics:\n",
      "  Matrix range     [1e-03, 1e+00]\n",
      "  Objective range  [1e+00, 8e+04]\n",
      "  Bounds range     [0e+00, 0e+00]\n",
      "  RHS range        [5e+03, 4e+05]\n",
      "\n",
      "Concurrent LP optimizer: dual simplex and barrier\n",
      "Showing barrier log only...\n",
      "\n",
      "Presolve removed 52466 rows and 21855 columns\n",
      "Presolve time: 0.05s\n",
      "Presolved: 8855 rows, 4429 columns, 22135 nonzeros\n",
      "\n",
      "Ordering time: 0.00s\n",
      "\n",
      "Barrier statistics:\n",
      " Dense cols : 2\n",
      " AA' NZ     : 2.214e+04\n",
      " Factor NZ  : 4.003e+04 (roughly 6 MBytes of memory)\n",
      " Factor Ops : 1.854e+05 (less than 1 second per iteration)\n",
      " Threads    : 1\n",
      "\n",
      "                  Objective                Residual\n",
      "Iter       Primal          Dual         Primal    Dual     Compl     Time\n",
      "   0  -8.28092386e+10 -6.77703971e+10  1.76e+05 0.00e+00  1.58e+09     0s\n",
      "   1   1.33394562e+11 -6.09177021e+10  2.69e+04 1.26e+03  2.02e+08     0s\n",
      "   2   1.42343875e+11 -5.08682163e+10  2.26e+03 4.07e-10  1.77e+07     0s\n",
      "   3   1.03859270e+10 -2.01133193e+10  6.85e+01 2.33e-10  1.84e+06     0s\n",
      "   4   6.67998238e+09 -1.74739801e+09  0.00e+00 7.86e-10  4.94e+05     0s\n",
      "   5   5.19998792e+09  3.48969828e+08  6.95e+00 7.57e-10  2.80e+05     0s\n",
      "   6   4.94875845e+09  1.32968243e+09  0.00e+00 3.78e-10  2.09e+05     0s\n",
      "   7   4.95335120e+09  1.94955546e+09  0.00e+00 1.16e-10  1.74e+05     0s\n",
      "   8   4.77615631e+09  2.47638032e+09  0.00e+00 3.13e-12  1.33e+05     0s\n",
      "   9   4.69535915e+09  2.86582196e+09  0.00e+00 5.66e-12  1.05e+05     0s\n",
      "  10   4.50635087e+09  3.27469458e+09  0.00e+00 8.15e-10  7.04e+04     0s\n",
      "  11   4.43224110e+09  3.47477238e+09  0.00e+00 6.82e-13  5.45e+04     0s\n",
      "  12   4.38001370e+09  3.77656116e+09  1.65e-01 7.39e-13  3.43e+04     0s\n",
      "  13   4.34769211e+09  3.88422436e+09  0.00e+00 1.82e-12  2.63e+04     0s\n",
      "  14   4.33005350e+09  4.07631100e+09  2.90e-02 3.49e-10  1.44e+04     0s\n",
      "  15   4.31766909e+09  4.27520864e+09  0.00e+00 8.15e-10  2.41e+03     0s\n",
      "  16   4.30941582e+09  4.30818257e+09  0.00e+00 6.69e-10  6.96e+01     0s\n",
      "  17   4.30865550e+09  4.30838061e+09  0.00e+00 1.48e-09  1.55e+01     0s\n",
      "  18   4.30850195e+09  4.30842234e+09  0.00e+00 1.51e-09  4.50e+00     0s\n",
      "  19   4.30845597e+09  4.30845551e+09  0.00e+00 4.87e-08  2.57e-02     0s\n",
      "  20   4.30845587e+09  4.30845587e+09  2.05e-08 1.05e-08  2.58e-08     0s\n",
      "  21   4.30845587e+09  4.30845587e+09  8.41e-12 3.72e-08  2.58e-11     0s\n",
      "\n",
      "Barrier solved model in 21 iterations and 0.19 seconds\n",
      "Optimal objective 4.30845587e+09\n",
      "\n",
      "Crossover log...\n",
      "\n",
      "       2 DPushes remaining with DInf 0.0000000e+00                 0s\n",
      "       0 DPushes remaining with DInf 0.0000000e+00                 0s\n",
      "\n",
      "       0 PPushes remaining with PInf 0.0000000e+00                 0s\n",
      "\n",
      "  Push phase complete: Pinf 0.0000000e+00, Dinf 1.0231815e-11      0s\n",
      "\n",
      "Iteration    Objective       Primal Inf.    Dual Inf.      Time\n",
      "       5    4.3084559e+09   0.000000e+00   0.000000e+00      0s\n",
      "\n",
      "Solved with barrier\n",
      "Solved in 5 iterations and 0.25 seconds\n",
      "Optimal objective  4.308455865e+09\n"
     ]
    },
    {
     "name": "stderr",
     "output_type": "stream",
     "text": [
      "INFO:pypsa.linopf:Optimization successful. Objective value: 4.31e+09\n"
     ]
    },
    {
     "data": {
      "text/plain": [
       "('ok', 'optimal')"
      ]
     },
     "execution_count": 91,
     "metadata": {},
     "output_type": "execute_result"
    }
   ],
   "source": [
    "network.lopf(network.snapshots, \n",
    "             pyomo=False,\n",
    "             solver_name='gurobi')"
   ]
  },
  {
   "cell_type": "code",
   "execution_count": 92,
   "metadata": {},
   "outputs": [
    {
     "data": {
      "text/plain": [
       "onshorewind    4.921057e+04\n",
       "solar          9.876900e+06\n",
       "OCGT           9.346894e+03\n",
       "Name: p_nom_opt, dtype: float64"
      ]
     },
     "execution_count": 92,
     "metadata": {},
     "output_type": "execute_result"
    }
   ],
   "source": [
    "network.generators.p_nom_opt #in MW"
   ]
  },
  {
   "cell_type": "code",
   "execution_count": 93,
   "metadata": {},
   "outputs": [
    {
     "data": {
      "text/plain": [
       "<matplotlib.legend.Legend at 0x7fdae766f760>"
      ]
     },
     "execution_count": 93,
     "metadata": {},
     "output_type": "execute_result"
    },
    {
     "data": {
      "image/png": "[encoded data removed]",
      "text/plain": [
       "<Figure size 432x288 with 1 Axes>"
      ]
     },
     "metadata": {
      "needs_background": "light"
     },
     "output_type": "display_data"
    }
   ],
   "source": [
    "import matplotlib.pyplot as plt\n",
    "\n",
    "plt.plot(network.loads_t.p['load'][0:96], color='black', label='demand')#why does the demand curve not go all the way? why is the gas curve so weird?\n",
    "plt.plot(network.generators_t.p['onshorewind'][0:96], color='blue', label='onshore wind')\n",
    "plt.plot(network.generators_t.p['solar'][0:96], color='orange', label='solar')\n",
    "plt.plot(network.generators_t.p['OCGT'][0:96], color='brown', label='gas (OCGT)')\n",
    "plt.legend(fancybox=True, shadow=True, loc='best')"
   ]
  },
  {
   "cell_type": "code",
   "execution_count": 94,
   "metadata": {},
   "outputs": [
    {
     "data": {
      "text/plain": [
       "Text(0.5, 1.07, 'Electricity mix')"
      ]
     },
     "execution_count": 94,
     "metadata": {},
     "output_type": "execute_result"
    },
    {
     "data": {
      "image/png": "[encoded data removed]",
      "text/plain": [
       "<Figure size 432x288 with 1 Axes>"
      ]
     },
     "metadata": {},
     "output_type": "display_data"
    }
   ],
   "source": [
    "labels = ['onshore wind', 'solar', 'gas (OCGT)' ]\n",
    "sizes = [network.generators_t.p['onshorewind'].sum(),\n",
    "         network.generators_t.p['solar'].sum(),\n",
    "         network.generators_t.p['OCGT'].sum()]\n",
    "\n",
    "colors = ['blue', 'orange', 'brown']\n",
    "\n",
    "plt.pie(sizes, \n",
    "        colors=colors, \n",
    "        labels=labels, \n",
    "        wedgeprops={'linewidth':0})\n",
    "plt.axis('equal')\n",
    "\n",
    "plt.title('Electricity mix', y=1.07)"
   ]
  },
  {
   "cell_type": "markdown",
   "metadata": {},
   "source": [
    "## PROJECT INSTRUCTIONS\n",
    "\n",
    "Based on the previous example, you are asked to carry out the following tasks:\n",
    "\n",
    "A. Choose a different country/region and calculate the optimal capacities for renewable and non-renewable generators. You can add as many technologies as you want. Remember to provide a reference for the cost assumptions. Plot the dispatch time series for a week in summer and winter. Plot the annual electricity mix. Use the duration curves or the capacity factor to investigate the contribution from different technologies. \n",
    "\n",
    "B. Investigate how sensitive is the optimum capacity mix to the global CO2 constraint. E.g., plot the generation mix as a function of the CO2 constraint that you impose. Search for the CO2 emissions in your country (today or in 1990) and refer the emissions allowance to that historical data. \n",
    "\n",
    "C. Investigate how sensitive are your results to the interannual variability of solar and wind generation. Plot the average capacity and variability obtained for every generator using different weather years. \n",
    "\n",
    "D. Add some storage technology/ies and investigate how they behave and what is their impact on the optimal system configuration. \n",
    "\n",
    "E. Discuss what strategies is your system using to balance the renewable generation at different time scales (intraday, seasonal, etc.) \n",
    "\n",
    "F. Select on target for decarbonization (i.e., one CO2 allowance limit). What is the CO2 price required to achieve that decarbonization level? Search for information on the existing CO2 tax in your country (if any) and discuss your result. \n",
    "\n",
    "G. Connect your country with, at least, two neighbour countries. You can assume that the capacities in the neighbours are fixed or cooptimize the whole system. You can also include fixed interconnection capacities or cooptimize them with the generators capacities. Discuss your results.\n",
    "\n",
    "H. Connect the electricity sector with another sector such as heating or transport, and cooptimize the two sectors. Discuss your results.\n",
    "\n",
    "I. Finally, select one topic that is under discussion in your region. Design and implement some experiment to obtain relevant information regarding that topic. E.g. \n",
    "\n",
    "[-] What are the consequences if Denmark decides not to install more onshore wind? \n",
    "\n",
    "[-] Would it be more expensive if France decides to close its nuclear power plants? \n",
    "\n",
    "[-] What will be the main impacts of the Viking link?\n",
    "\n",
    "Write a short report (maximum 10 pages) including your main findings."
   ]
  },
  {
   "cell_type": "code",
   "execution_count": 95,
   "metadata": {},
   "outputs": [],
   "source": [
    "###What is a duration curve?\n"
   ]
  },
  {
   "cell_type": "markdown",
   "metadata": {},
   "source": [
    "\n",
    "\n",
    "\n",
    "_TIP 1: You can add a link with the following code_\n",
    "\n",
    "The efficiency will be 1 if you are connecting two countries and different from one if, for example, you are connecting the electricity bus to the heating bus using a heat pump.\n",
    "Setting p_min_pu=-1 makes the link reversible.\n"
   ]
  },
  {
   "cell_type": "code",
   "execution_count": 96,
   "metadata": {},
   "outputs": [
    {
     "name": "stderr",
     "output_type": "stream",
     "text": [
      "WARNING:pypsa.components:The bus name `electricity bus country a` given for bus0 of Link `country a - country b` does not appear in network.buses\n",
      "WARNING:pypsa.components:The bus name `electricity bus country b` given for bus1 of Link `country a - country b` does not appear in network.buses\n"
     ]
    }
   ],
   "source": [
    "network.add(\"Link\",\n",
    "             'country a - country b',\n",
    "             bus0=\"electricity bus country a\",\n",
    "             bus1=\"electricity bus country b\",\n",
    "             p_nom_extendable=True, # capacity is optimised\n",
    "             p_min_pu=-1,\n",
    "             length=600, # length (in km) between country a and country b\n",
    "             capital_cost=400*600) # capital cost * length "
   ]
  },
  {
   "cell_type": "markdown",
   "metadata": {},
   "source": [
    "\n",
    "_TIP 2: You can check the KKT multiplier associated with the constraint with the following code_\n"
   ]
  },
  {
   "cell_type": "code",
   "execution_count": 97,
   "metadata": {},
   "outputs": [
    {
     "name": "stdout",
     "output_type": "stream",
     "text": [
      "co2_limit    400000.0\n",
      "Name: constant, dtype: float64\n",
      "co2_limit    4797.222532\n",
      "Name: mu, dtype: float64\n"
     ]
    }
   ],
   "source": [
    "print(network.global_constraints.constant) #CO2 limit (constant in the constraint)\n",
    "\n",
    "print(network.global_constraints.mu) #CO2 price (Lagrance multiplier in the constraint)"
   ]
  },
  {
   "cell_type": "markdown",
   "metadata": {},
   "source": [
    "TIP 3: You can add a H2 store connected to the electricity bus via an electrolyzer and a fuel cell with the following code. "
   ]
  },
  {
   "cell_type": "code",
   "execution_count": 98,
   "metadata": {},
   "outputs": [],
   "source": [
    "#Create a new carrier\n",
    "network.add(\"Carrier\",\n",
    "      \"H2\")\n",
    "\n",
    "#Create a new bus\n",
    "network.add(\"Bus\",\n",
    "      \"H2\",\n",
    "      carrier = \"H2\")\n",
    "\n",
    "#Connect the store to the bus\n",
    "network.add(\"Store\",\n",
    "      \"H2 Tank\",\n",
    "      bus = \"H2\",\n",
    "      e_nom_extendable = True,\n",
    "      e_cyclic = True,\n",
    "      capital_cost = annuity(25, 0.07)*57000*(1+0.011))\n",
    "\n",
    "#Add the link \"H2 Electrolysis\" that transport energy from the electricity bus (bus0) to the H2 bus (bus1)\n",
    "#with 80% efficiency\n",
    "network.add(\"Link\",\n",
    "      \"H2 Electrolysis\", \n",
    "      bus0 = \"electricity bus\",\n",
    "      bus1 = \"H2\",     \n",
    "      p_nom_extendable = True,\n",
    "      efficiency = 0.8,\n",
    "      capital_cost = annuity(25, 0.07)*600000*(1+0.05))\n",
    "\n",
    "#Add the link \"H2 Fuel Cell\" that transports energy from the H2 bus (bus0) to the electricity bus (bus1)\n",
    "#with 58% efficiency\n",
    "network.add(\"Link\",\n",
    "      \"H2 Fuel Cell\", \n",
    "      bus0 = \"H2\",\n",
    "      bus1 = \"electricity bus\",     \n",
    "      p_nom_extendable = True,\n",
    "      efficiency = 0.58,\n",
    "      capital_cost = annuity(10, 0.07)*1300000*(1+0.05)) \n"
   ]
  },
  {
   "cell_type": "code",
   "execution_count": null,
   "metadata": {},
   "outputs": [],
   "source": []
  }
 ],
 "metadata": {
  "kernelspec": {
   "display_name": "Python 3 (ipykernel)",
   "language": "python",
   "name": "python3"
  },
  "language_info": {
   "codemirror_mode": {
    "name": "ipython",
    "version": 3
   },
   "file_extension": ".py",
   "mimetype": "text/x-python",
   "name": "python",
   "nbconvert_exporter": "python",
   "pygments_lexer": "ipython3",
   "version": "3.8.11"
  }
 },
 "nbformat": 4,
 "nbformat_minor": 1
}
