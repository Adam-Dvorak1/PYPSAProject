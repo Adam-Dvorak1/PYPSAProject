{
 "cells": [
  {
   "cell_type": "markdown",
   "metadata": {},
   "source": [
    "###### Aarhus University - Fall 2021 - Renewable Energy Systems (RES) project \n",
    "\n",
    "This notebook includes the steps to optimize the capacity and dispatch of generators in the power system of one country.\n",
    "Make sure that you understand every step in this notebook. For the project of the course Renewable Energy Systems (RES) you need to deliver a report including the sections described at the end of this notebook."
   ]
  },
  {
   "cell_type": "code",
   "execution_count": 66,
   "metadata": {},
   "outputs": [],
   "source": [
    "import pypsa"
   ]
  },
  {
   "cell_type": "markdown",
   "metadata": {},
   "source": [
    "Pandas package is very useful to work with imported data, time series, matrices ...\n",
    "\n",
    "You can find a 10-minutes guide to pandas in the following link\n",
    "https://pandas.pydata.org/pandas-docs/stable/user_guide/10min.html"
   ]
  },
  {
   "cell_type": "code",
   "execution_count": 67,
   "metadata": {},
   "outputs": [],
   "source": [
    "import pandas as pd"
   ]
  },
  {
   "cell_type": "markdown",
   "metadata": {},
   "source": [
    "We start by creating the network. In this example, the country is modelled as a single node, so the network will only include one bus.\n",
    "\n",
    "We select the year 2015 and set the hours in that year as snapshots.\n",
    "\n",
    "We select a country, in this case, Spain (ESP), and add one node (electricity bus) to the network."
   ]
  },
  {
   "cell_type": "code",
   "execution_count": 68,
   "metadata": {},
   "outputs": [
    {
     "data": {
      "text/plain": [
       "DatetimeIndex(['2011-01-01 00:00:00', '2011-01-01 01:00:00',\n",
       "               '2011-01-01 02:00:00', '2011-01-01 03:00:00',\n",
       "               '2011-01-01 04:00:00', '2011-01-01 05:00:00',\n",
       "               '2011-01-01 06:00:00', '2011-01-01 07:00:00',\n",
       "               '2011-01-01 08:00:00', '2011-01-01 09:00:00',\n",
       "               ...\n",
       "               '2011-12-31 14:00:00', '2011-12-31 15:00:00',\n",
       "               '2011-12-31 16:00:00', '2011-12-31 17:00:00',\n",
       "               '2011-12-31 18:00:00', '2011-12-31 19:00:00',\n",
       "               '2011-12-31 20:00:00', '2011-12-31 21:00:00',\n",
       "               '2011-12-31 22:00:00', '2011-12-31 23:00:00'],\n",
       "              dtype='datetime64[ns]', name='snapshot', length=8760, freq='H')"
      ]
     },
     "execution_count": 68,
     "metadata": {},
     "output_type": "execute_result"
    }
   ],
   "source": [
    "network = pypsa.Network()\n",
    "hours_in_2011 = pd.date_range('2011-01-01T00:00:00','2011-12-31T23:00:00', freq='H') #I changed the date rate from Z\n",
    "network.set_snapshots(hours_in_2011)\n",
    "\n",
    "network.add(\"Bus\",\"electricity bus\")\n",
    "\n",
    "network.snapshots"
   ]
  },
  {
   "cell_type": "markdown",
   "metadata": {},
   "source": [
    "The demand is represented by the historical electricity demand in 2015 with hourly resolution. \n",
    "\n",
    "The file with historical hourly electricity demand for every European country is available in the data folder.\n",
    "\n",
    "The electricity demand time series were obtained from ENTSOE through the very convenient compilation carried out by the Open Power System Data (OPSD). https://data.open-power-system-data.org/time_series/"
   ]
  },
  {
   "cell_type": "code",
   "execution_count": 69,
   "metadata": {},
   "outputs": [
    {
     "name": "stdout",
     "output_type": "stream",
     "text": [
      "Column 1\n",
      "2011-01-01 00:00:00    47128.8\n",
      "2011-01-01 01:00:00    52522.3\n",
      "2011-01-01 02:00:00    52212.0\n",
      "2011-01-01 03:00:00    50350.0\n",
      "2011-01-01 04:00:00    48459.0\n",
      "Name: demand_mwh, dtype: float64\n"
     ]
    }
   ],
   "source": [
    "# load electricity demand data\n",
    "df_elec = pd.read_csv('data_extra/CaliforniaTimeSeries.csv', index_col=0) # in MWh\n",
    "df_elec.index = pd.to_datetime(df_elec.index) #change index to datatime\n",
    "print(df_elec['demand_mwh'].head())"
   ]
  },
  {
   "cell_type": "code",
   "execution_count": 70,
   "metadata": {},
   "outputs": [],
   "source": [
    "# add load to the bus\n",
    "network.add(\"Load\",\n",
    "            \"load\", \n",
    "            bus=\"electricity bus\", \n",
    "            p_set=df_elec['demand_mwh'])"
   ]
  },
  {
   "cell_type": "markdown",
   "metadata": {},
   "source": [
    "Print the load time series to check that it has been properly added (you should see numbers and not 'NaN')"
   ]
  },
  {
   "cell_type": "code",
   "execution_count": 71,
   "metadata": {},
   "outputs": [
    {
     "data": {
      "text/html": [
       "<div>\n",
       "<style scoped>\n",
       "    .dataframe tbody tr th:only-of-type {\n",
       "        vertical-align: middle;\n",
       "    }\n",
       "\n",
       "    .dataframe tbody tr th {\n",
       "        vertical-align: top;\n",
       "    }\n",
       "\n",
       "    .dataframe thead th {\n",
       "        text-align: right;\n",
       "    }\n",
       "</style>\n",
       "<table border=\"1\" class=\"dataframe\">\n",
       "  <thead>\n",
       "    <tr style=\"text-align: right;\">\n",
       "      <th></th>\n",
       "      <th>load</th>\n",
       "    </tr>\n",
       "    <tr>\n",
       "      <th>snapshot</th>\n",
       "      <th></th>\n",
       "    </tr>\n",
       "  </thead>\n",
       "  <tbody>\n",
       "    <tr>\n",
       "      <th>2011-01-01 00:00:00</th>\n",
       "      <td>47128.8</td>\n",
       "    </tr>\n",
       "    <tr>\n",
       "      <th>2011-01-01 01:00:00</th>\n",
       "      <td>52522.3</td>\n",
       "    </tr>\n",
       "    <tr>\n",
       "      <th>2011-01-01 02:00:00</th>\n",
       "      <td>52212.0</td>\n",
       "    </tr>\n",
       "    <tr>\n",
       "      <th>2011-01-01 03:00:00</th>\n",
       "      <td>50350.0</td>\n",
       "    </tr>\n",
       "    <tr>\n",
       "      <th>2011-01-01 04:00:00</th>\n",
       "      <td>48459.0</td>\n",
       "    </tr>\n",
       "    <tr>\n",
       "      <th>...</th>\n",
       "      <td>...</td>\n",
       "    </tr>\n",
       "    <tr>\n",
       "      <th>2011-12-31 19:00:00</th>\n",
       "      <td>31488.7</td>\n",
       "    </tr>\n",
       "    <tr>\n",
       "      <th>2011-12-31 20:00:00</th>\n",
       "      <td>31279.2</td>\n",
       "    </tr>\n",
       "    <tr>\n",
       "      <th>2011-12-31 21:00:00</th>\n",
       "      <td>30967.0</td>\n",
       "    </tr>\n",
       "    <tr>\n",
       "      <th>2011-12-31 22:00:00</th>\n",
       "      <td>30790.5</td>\n",
       "    </tr>\n",
       "    <tr>\n",
       "      <th>2011-12-31 23:00:00</th>\n",
       "      <td>31011.1</td>\n",
       "    </tr>\n",
       "  </tbody>\n",
       "</table>\n",
       "<p>8760 rows × 1 columns</p>\n",
       "</div>"
      ],
      "text/plain": [
       "                        load\n",
       "snapshot                    \n",
       "2011-01-01 00:00:00  47128.8\n",
       "2011-01-01 01:00:00  52522.3\n",
       "2011-01-01 02:00:00  52212.0\n",
       "2011-01-01 03:00:00  50350.0\n",
       "2011-01-01 04:00:00  48459.0\n",
       "...                      ...\n",
       "2011-12-31 19:00:00  31488.7\n",
       "2011-12-31 20:00:00  31279.2\n",
       "2011-12-31 21:00:00  30967.0\n",
       "2011-12-31 22:00:00  30790.5\n",
       "2011-12-31 23:00:00  31011.1\n",
       "\n",
       "[8760 rows x 1 columns]"
      ]
     },
     "execution_count": 71,
     "metadata": {},
     "output_type": "execute_result"
    }
   ],
   "source": [
    "network.loads_t.p_set"
   ]
  },
  {
   "cell_type": "markdown",
   "metadata": {},
   "source": [
    "In the optimization, we will minimize the annualized system costs.\n",
    "\n",
    "We will need to annualize the cost of every generator, we build a function to do it."
   ]
  },
  {
   "cell_type": "code",
   "execution_count": 72,
   "metadata": {},
   "outputs": [],
   "source": [
    "def annuity(n,r):\n",
    "    \"\"\"Calculate the annuity factor for an asset with lifetime n years and\n",
    "    discount rate of r, e.g. annuity(20,0.05)*20 = 1.6\"\"\"\n",
    "\n",
    "    if r > 0:\n",
    "        return r/(1. - 1./(1.+r)**n)\n",
    "    else:\n",
    "        return 1/n\n"
   ]
  },
  {
   "cell_type": "markdown",
   "metadata": {},
   "source": [
    "We include solar PV and onshore wind generators. \n",
    "\n",
    "The capacity factors representing the availability of those generators for every European country can be downloaded from the following repositories (select 'optimal' for PV and onshore for wind). \n",
    "\n",
    "https://zenodo.org/record/3253876#.XSiVOEdS8l0\n",
    "\n",
    "https://zenodo.org/record/2613651#.XSiVOkdS8l0\n",
    "\n",
    "We include also Open Cycle Gas Turbine (OCGT) generators\n",
    "\n",
    "The cost assumed for the generators are the same as in the paper https://doi.org/10.1016/j.enconman.2019.111977 (open version:  https://arxiv.org/pdf/1906.06936.pdf)"
   ]
  },
  {
   "cell_type": "code",
   "execution_count": 73,
   "metadata": {},
   "outputs": [],
   "source": [
    "# add the different carriers, only gas emits CO2\n",
    "network.add(\"Carrier\", \"gas\", co2_emissions=0.19) # in t_CO2/MWh_th\n",
    "network.add(\"Carrier\", \"onshorewind\")\n",
    "network.add(\"Carrier\", \"solar\")\n",
    "\n",
    "# add onshore wind generator\n",
    "df_onshorewind = pd.read_csv('data_extra/CaliforniaTimeSeries.csv', index_col=0)\n",
    "df_onshorewind.index = pd.to_datetime(df_onshorewind.index)\n",
    "CF_wind = df_onshorewind['onwind'][[hour.strftime(\"%Y-%m-%dT%H:%M:%S\") for hour in network.snapshots]]\n",
    "capital_cost_onshorewind = annuity(30,0.07)*910000*(1+0.033) # in €/MW #Where are these numbers coming from?\n",
    "#More specifically, where does the 0.07 and the 1000 multiplying the 910000 come from?\n",
    "network.add(\"Generator\",\n",
    "            \"onshorewind\",\n",
    "            bus=\"electricity bus\",\n",
    "            p_nom_extendable=True,\n",
    "            carrier=\"onshorewind\",\n",
    "            #p_nom_max=1000, # maximum capacity can be limited due to environmental constraints\n",
    "            capital_cost = capital_cost_onshorewind,\n",
    "            marginal_cost = 0,\n",
    "            p_max_pu = CF_wind) #Does this add \n",
    "\n",
    "# add solar PV generator\n",
    "df_solar = pd.read_csv('data_extra/CaliforniaTimeSeries.csv', index_col=0)\n",
    "df_solar.index = pd.to_datetime(df_solar.index)\n",
    "CF_solar = df_solar['solar'][[hour.strftime(\"%Y-%m-%dT%H:%M:%S\") for hour in network.snapshots]]\n",
    "capital_cost_solar = annuity(25,0.07)*425000*(1+0.03) # in €/MW\n",
    "#capital_cost_solar = 0\n",
    "network.add(\"Generator\",\n",
    "            \"solar\",\n",
    "            bus=\"electricity bus\",\n",
    "            p_nom_extendable=True,\n",
    "            carrier=\"solar\",\n",
    "            #p_nom_max=1000, # maximum capacity can be limited due to environmental constraints\n",
    "            capital_cost = capital_cost_solar,\n",
    "            marginal_cost = 0,\n",
    "            p_max_pu = CF_solar)\n",
    "\n",
    "# add OCGT (Open Cycle Gas Turbine) generator\n",
    "capital_cost_OCGT = annuity(25,0.07)*560000*(1+0.033) # in €/MW\n",
    "fuel_cost = 21.6 # in €/MWh_th\n",
    "efficiency = 0.39\n",
    "marginal_cost_OCGT = fuel_cost/efficiency # in €/MWh_el\n",
    "network.add(\"Generator\",\n",
    "            \"OCGT\",\n",
    "            bus=\"electricity bus\",\n",
    "            p_nom_extendable=True,\n",
    "            carrier=\"gas\",\n",
    "            #p_nom_max=1000,\n",
    "            capital_cost = capital_cost_OCGT,\n",
    "            marginal_cost = marginal_cost_OCGT)"
   ]
  },
  {
   "cell_type": "markdown",
   "metadata": {},
   "source": [
    "Print the generator Capacity factor time series to check that it has been properly added (you should see numbers and not 'NaN')"
   ]
  },
  {
   "cell_type": "code",
   "execution_count": 74,
   "metadata": {},
   "outputs": [
    {
     "data": {
      "text/html": [
       "<div>\n",
       "<style scoped>\n",
       "    .dataframe tbody tr th:only-of-type {\n",
       "        vertical-align: middle;\n",
       "    }\n",
       "\n",
       "    .dataframe tbody tr th {\n",
       "        vertical-align: top;\n",
       "    }\n",
       "\n",
       "    .dataframe thead th {\n",
       "        text-align: right;\n",
       "    }\n",
       "</style>\n",
       "<table border=\"1\" class=\"dataframe\">\n",
       "  <thead>\n",
       "    <tr style=\"text-align: right;\">\n",
       "      <th></th>\n",
       "      <th>onshorewind</th>\n",
       "      <th>solar</th>\n",
       "    </tr>\n",
       "    <tr>\n",
       "      <th>snapshot</th>\n",
       "      <th></th>\n",
       "      <th></th>\n",
       "    </tr>\n",
       "  </thead>\n",
       "  <tbody>\n",
       "    <tr>\n",
       "      <th>2011-01-01 00:00:00</th>\n",
       "      <td>0.135</td>\n",
       "      <td>0.247</td>\n",
       "    </tr>\n",
       "    <tr>\n",
       "      <th>2011-01-01 01:00:00</th>\n",
       "      <td>0.150</td>\n",
       "      <td>0.000</td>\n",
       "    </tr>\n",
       "    <tr>\n",
       "      <th>2011-01-01 02:00:00</th>\n",
       "      <td>0.164</td>\n",
       "      <td>0.000</td>\n",
       "    </tr>\n",
       "    <tr>\n",
       "      <th>2011-01-01 03:00:00</th>\n",
       "      <td>0.171</td>\n",
       "      <td>0.000</td>\n",
       "    </tr>\n",
       "    <tr>\n",
       "      <th>2011-01-01 04:00:00</th>\n",
       "      <td>0.175</td>\n",
       "      <td>0.000</td>\n",
       "    </tr>\n",
       "    <tr>\n",
       "      <th>...</th>\n",
       "      <td>...</td>\n",
       "      <td>...</td>\n",
       "    </tr>\n",
       "    <tr>\n",
       "      <th>2011-12-31 19:00:00</th>\n",
       "      <td>0.031</td>\n",
       "      <td>0.555</td>\n",
       "    </tr>\n",
       "    <tr>\n",
       "      <th>2011-12-31 20:00:00</th>\n",
       "      <td>0.030</td>\n",
       "      <td>0.623</td>\n",
       "    </tr>\n",
       "    <tr>\n",
       "      <th>2011-12-31 21:00:00</th>\n",
       "      <td>0.031</td>\n",
       "      <td>0.636</td>\n",
       "    </tr>\n",
       "    <tr>\n",
       "      <th>2011-12-31 22:00:00</th>\n",
       "      <td>0.025</td>\n",
       "      <td>0.592</td>\n",
       "    </tr>\n",
       "    <tr>\n",
       "      <th>2011-12-31 23:00:00</th>\n",
       "      <td>0.032</td>\n",
       "      <td>0.506</td>\n",
       "    </tr>\n",
       "  </tbody>\n",
       "</table>\n",
       "<p>8760 rows × 2 columns</p>\n",
       "</div>"
      ],
      "text/plain": [
       "                     onshorewind  solar\n",
       "snapshot                               \n",
       "2011-01-01 00:00:00        0.135  0.247\n",
       "2011-01-01 01:00:00        0.150  0.000\n",
       "2011-01-01 02:00:00        0.164  0.000\n",
       "2011-01-01 03:00:00        0.171  0.000\n",
       "2011-01-01 04:00:00        0.175  0.000\n",
       "...                          ...    ...\n",
       "2011-12-31 19:00:00        0.031  0.555\n",
       "2011-12-31 20:00:00        0.030  0.623\n",
       "2011-12-31 21:00:00        0.031  0.636\n",
       "2011-12-31 22:00:00        0.025  0.592\n",
       "2011-12-31 23:00:00        0.032  0.506\n",
       "\n",
       "[8760 rows x 2 columns]"
      ]
     },
     "execution_count": 74,
     "metadata": {},
     "output_type": "execute_result"
    }
   ],
   "source": [
    "network.generators_t.p_max_pu"
   ]
  },
  {
   "cell_type": "markdown",
   "metadata": {},
   "source": [
    "We solve the linear optimal power flow (lopf) using Gurobi as solver.\n",
    "\n",
    "In this case, we are optimising the installed capacity and dispatch of every generator to minimize the total system cost."
   ]
  },
  {
   "cell_type": "code",
   "execution_count": 75,
   "metadata": {},
   "outputs": [
    {
     "name": "stderr",
     "output_type": "stream",
     "text": [
      "INFO:pypsa.linopf:Prepare linear problem\n",
      "INFO:pypsa.linopf:Total preparation time: 0.98s\n",
      "INFO:pypsa.linopf:Solve linear problem using Gurobi solver\n"
     ]
    },
    {
     "name": "stdout",
     "output_type": "stream",
     "text": [
      "Read LP format model from file /var/folders/x3/vnc5_2m96vsfhyjnwg076wzr0000gn/T/pypsa-problem-jti8j1ii.lp\n",
      "Reading time = 0.13 seconds\n",
      "obj: 61320 rows, 26284 columns, 100738 nonzeros\n",
      "Gurobi Optimizer version 9.1.2 build v9.1.2rc0 (mac64)\n",
      "Thread count: 4 physical cores, 8 logical processors, using up to 8 threads\n",
      "Optimize a model with 61320 rows, 26284 columns and 100738 nonzeros\n",
      "Model fingerprint: 0xd466db16\n",
      "Coefficient statistics:\n",
      "  Matrix range     [1e-03, 1e+00]\n",
      "  Objective range  [1e+00, 8e+04]\n",
      "  Bounds range     [0e+00, 0e+00]\n",
      "  RHS range        [2e+04, 6e+04]\n",
      "\n",
      "Concurrent LP optimizer: dual simplex and barrier\n",
      "Showing barrier log only...\n",
      "\n",
      "Presolve removed 35044 rows and 8765 columns\n",
      "Presolve time: 0.07s\n",
      "Presolved: 26276 rows, 17519 columns, 56930 nonzeros\n",
      "\n",
      "Ordering time: 0.00s\n",
      "\n",
      "Barrier statistics:\n",
      " Dense cols : 3\n",
      " AA' NZ     : 3.941e+04\n",
      " Factor NZ  : 1.270e+05 (roughly 20 MBytes of memory)\n",
      " Factor Ops : 6.612e+05 (less than 1 second per iteration)\n",
      " Threads    : 1\n",
      "\n",
      "                  Objective                Residual\n",
      "Iter       Primal          Dual         Primal    Dual     Compl     Time\n",
      "   0  -5.95937339e+10 -6.57113438e+10  1.42e+05 1.06e+02  2.13e+08     0s\n",
      "   1   3.09441673e+10 -3.05048452e+11  1.36e+04 1.30e+03  4.30e+07     0s\n",
      "   2   4.22282107e+10 -5.23053067e+10  2.90e+02 2.68e+01  2.78e+06     0s\n",
      "   3   2.39890768e+10  7.52982061e+09  4.65e+01 1.54e+00  4.06e+05     0s\n",
      "   4   2.03063223e+10  1.24454837e+10  2.82e+01 2.64e-01  1.85e+05     0s\n",
      "   5   2.01491837e+10  1.31818361e+10  2.74e+01 1.91e-01  1.63e+05     0s\n",
      "   6   1.88359920e+10  1.40088256e+10  1.82e+01 4.98e-02  1.13e+05     0s\n",
      "   7   1.79154741e+10  1.53462975e+10  1.05e+01 3.30e-02  5.97e+04     0s\n",
      "   8   1.73626607e+10  1.57559445e+10  6.67e+00 1.19e-02  3.72e+04     0s\n",
      "   9   1.70695180e+10  1.58493622e+10  4.79e+00 9.88e-03  2.82e+04     0s\n",
      "  10   1.67861391e+10  1.59064042e+10  2.74e+00 8.70e-03  2.04e+04     0s\n",
      "  11   1.66900820e+10  1.59581462e+10  2.06e+00 7.60e-03  1.69e+04     0s\n",
      "  12   1.66321335e+10  1.59910828e+10  1.74e+00 6.84e-03  1.48e+04     0s\n",
      "  13   1.64459921e+10  1.60516199e+10  7.05e-01 5.41e-03  9.13e+03     0s\n",
      "  14   1.64205480e+10  1.60648712e+10  5.99e-01 5.10e-03  8.24e+03     0s\n",
      "  15   1.63548800e+10  1.61050700e+10  2.57e-01 4.09e-03  5.79e+03     0s\n",
      "  16   1.63329844e+10  1.61213464e+10  1.48e-01 3.71e-03  4.91e+03     0s\n",
      "  17   1.63150183e+10  1.61487000e+10  2.44e-02 3.06e-03  3.86e+03     0s\n",
      "  18   1.63020923e+10  1.61921943e+10  1.16e-02 8.53e-04  2.55e+03     0s\n",
      "  19   1.62986927e+10  1.61997016e+10  7.39e-03 7.88e-04  2.30e+03     0s\n",
      "  20   1.62958988e+10  1.62069696e+10  6.01e-03 7.24e-04  2.06e+03     0s\n",
      "  21   1.62945548e+10  1.62103945e+10  5.05e-03 6.93e-04  1.95e+03     0s\n",
      "  22   1.62937003e+10  1.62174695e+10  4.54e-03 6.32e-04  1.77e+03     0s\n",
      "  23   1.62931860e+10  1.62196505e+10  4.26e-03 6.13e-04  1.71e+03     0s\n",
      "  24   1.62921440e+10  1.62266969e+10  3.79e-03 5.58e-04  1.52e+03     0s\n",
      "  25   1.62917213e+10  1.62303028e+10  3.46e-03 5.26e-04  1.43e+03     0s\n",
      "  26   1.62908706e+10  1.62326164e+10  2.44e-03 5.04e-04  1.35e+03     0s\n",
      "  27   1.62895720e+10  1.62401918e+10  1.84e-03 1.81e-04  1.15e+03     0s\n",
      "  28   1.62886628e+10  1.62438350e+10  1.26e-03 1.69e-04  1.04e+03     0s\n",
      "  29   1.62881293e+10  1.62481667e+10  1.09e-03 1.53e-04  9.28e+02     0s\n",
      "  30   1.62873934e+10  1.62492092e+10  5.54e-04 1.48e-04  8.87e+02     0s\n",
      "  31   1.62871796e+10  1.62525755e+10  5.06e-04 2.93e-05  8.04e+02     0s\n",
      "  32   1.62870323e+10  1.62534901e+10  4.68e-04 2.86e-05  7.79e+02     0s\n",
      "  33   1.62867379e+10  1.62555247e+10  4.21e-04 2.87e-05  7.25e+02     0s\n",
      "  34   1.62866489e+10  1.62560448e+10  3.51e-04 2.80e-05  7.11e+02     0s\n",
      "  35   1.62863941e+10  1.62591540e+10  2.80e-04 2.48e-05  6.33e+02     0s\n",
      "  36   1.62863037e+10  1.62616792e+10  2.52e-04 2.27e-05  5.72e+02     0s\n",
      "  37   1.62860644e+10  1.62643869e+10  2.16e-04 2.19e-05  5.04e+02     1s\n",
      "  38   1.62859343e+10  1.62672904e+10  1.87e-04 1.84e-05  4.33e+02     1s\n",
      "  39   1.62858691e+10  1.62691099e+10  1.64e-04 1.06e-11  3.89e+02     1s\n",
      "  40   1.62857569e+10  1.62696165e+10  1.41e-04 1.18e-11  3.75e+02     1s\n",
      "  41   1.62856874e+10  1.62713434e+10  9.99e-05 6.15e-11  3.33e+02     1s\n",
      "  42   1.62856110e+10  1.62724777e+10  8.62e-05 6.28e-11  3.05e+02     1s\n",
      "  43   1.62855234e+10  1.62756665e+10  7.50e-05 4.72e-11  2.29e+02     1s\n",
      "  44   1.62854815e+10  1.62764141e+10  6.51e-05 7.84e-12  2.11e+02     1s\n",
      "  45   1.62853978e+10  1.62767235e+10  4.78e-05 1.71e-13  2.02e+02     1s\n",
      "  46   1.62853539e+10  1.62774942e+10  2.59e-05 2.73e-11  1.83e+02     1s\n",
      "  47   1.62853077e+10  1.62778773e+10  5.77e-06 1.36e-12  1.73e+02     1s\n",
      "  48   1.62852755e+10  1.62790757e+10  4.95e-06 1.71e-13  1.44e+02     1s\n",
      "  49   1.62852484e+10  1.62796303e+10  3.94e-06 1.71e-13  1.31e+02     1s\n",
      "  50   1.62852483e+10  1.62805237e+10  2.84e-06 1.14e-13  1.10e+02     1s\n",
      "  51   1.62852196e+10  1.62809798e+10  1.38e-06 1.71e-13  9.87e+01     1s\n",
      "  52   1.62852229e+10  1.62813167e+10  1.33e-06 1.14e-13  9.09e+01     1s\n",
      "  53   1.62852106e+10  1.62817737e+10  1.20e-06 1.71e-13  8.00e+01     1s\n",
      "  54   1.62851986e+10  1.62823382e+10  1.41e-06 1.71e-13  6.65e+01     1s\n",
      "  55   1.62851810e+10  1.62825434e+10  4.75e-06 1.71e-13  6.14e+01     1s\n",
      "  56   1.62851720e+10  1.62827875e+10  4.89e-06 1.71e-13  5.55e+01     1s\n",
      "  57   1.62851687e+10  1.62829087e+10  4.00e-06 1.71e-13  5.26e+01     1s\n",
      "  58   1.62851672e+10  1.62834503e+10  2.77e-06 1.11e-04  3.99e+01     1s\n",
      "\n",
      "Barrier performed 58 iterations in 0.75 seconds\n",
      "Barrier solve interrupted - model solved by another algorithm\n",
      "\n",
      "\n",
      "Solved with dual simplex\n",
      "Solved in 8835 iterations and 0.76 seconds\n",
      "Optimal objective  1.628512889e+10\n"
     ]
    },
    {
     "name": "stderr",
     "output_type": "stream",
     "text": [
      "INFO:pypsa.linopf:Optimization successful. Objective value: 1.63e+10\n"
     ]
    },
    {
     "data": {
      "text/plain": [
       "('ok', 'optimal')"
      ]
     },
     "execution_count": 75,
     "metadata": {},
     "output_type": "execute_result"
    }
   ],
   "source": [
    "network.lopf(network.snapshots, \n",
    "             pyomo=False,\n",
    "             solver_name='gurobi')"
   ]
  },
  {
   "cell_type": "markdown",
   "metadata": {},
   "source": [
    "The message \"Optimization successful\" indicates that the optimizer has found an optimal solution. \n",
    "\n",
    "The total cost can be read from the network objetive."
   ]
  },
  {
   "cell_type": "code",
   "execution_count": 76,
   "metadata": {},
   "outputs": [
    {
     "name": "stdout",
     "output_type": "stream",
     "text": [
      "load    53.063703\n",
      "dtype: float64\n"
     ]
    }
   ],
   "source": [
    "#print(network.objective/1000000) #in 10^6 €\n",
    "print(network.objective/network.loads_t.p.sum()) # €/MWh"
   ]
  },
  {
   "cell_type": "markdown",
   "metadata": {},
   "source": [
    "The optimal capacity for every generator can be shown."
   ]
  },
  {
   "cell_type": "code",
   "execution_count": 77,
   "metadata": {},
   "outputs": [
    {
     "data": {
      "text/plain": [
       "onshorewind    13984.196452\n",
       "solar          70740.125228\n",
       "OCGT           54495.769997\n",
       "Name: p_nom_opt, dtype: float64"
      ]
     },
     "execution_count": 77,
     "metadata": {},
     "output_type": "execute_result"
    }
   ],
   "source": [
    "network.generators.p_nom_opt # in MW"
   ]
  },
  {
   "cell_type": "markdown",
   "metadata": {},
   "source": [
    "We can plot now the dispatch of every generator during the first week of the year and the electricity demand.\n",
    "We import the matplotlib package which is very useful to plot results.\n",
    "\n",
    "We can also plot the electricity mix."
   ]
  },
  {
   "cell_type": "code",
   "execution_count": 65,
   "metadata": {},
   "outputs": [
    {
     "data": {
      "image/png": "[encoded data removed]",
      "text/plain": [
       "<Figure size 432x288 with 1 Axes>"
      ]
     },
     "metadata": {
      "needs_background": "light"
     },
     "output_type": "display_data"
    }
   ],
   "source": [
    "import matplotlib.pyplot as plt\n",
    "\n",
    "plt.plot(network.loads_t.p['load'][0:8760], color='black', label='demand')#these are the first 96 hours of data\n",
    "plt.plot(network.generators_t.p['onshorewind'][0:8760], color='blue', label='onshore wind')\n",
    "plt.plot(network.generators_t.p['solar'][0:8760], color='orange', label='solar')\n",
    "plt.plot(network.generators_t.p['OCGT'][0:8760], color='brown', label='gas (OCGT)')\n",
    "plt.legend(fancybox=True, shadow=True, loc='best')#at one point, demand perfectly matches onshore wind. However, this is not all the wind that is being produced, right?\n",
    "plt.savefig('Images/California/TotalCaliforniaZeroCost.png')"
   ]
  },
  {
   "cell_type": "code",
   "execution_count": 52,
   "metadata": {},
   "outputs": [
    {
     "data": {
      "image/png": "[encoded data removed]",
      "text/plain": [
       "<Figure size 432x288 with 1 Axes>"
      ]
     },
     "metadata": {
      "needs_background": "light"
     },
     "output_type": "display_data"
    }
   ],
   "source": [
    "plt.plot(network.loads_t.p['load'][5000:5096], color='black', label='demand')#these are some middle 96 hours of data\n",
    "plt.plot(network.generators_t.p['onshorewind'][5000:5096], color='blue', label='onshore wind')\n",
    "plt.plot(network.generators_t.p['solar'][5000:5096], color='orange', label='solar')\n",
    "plt.plot(network.generators_t.p['OCGT'][5000:5096], color='brown', label='gas (OCGT)')\n",
    "plt.legend(fancybox=True, shadow=True, loc='best')\n",
    "plt.savefig('Images/California/CaliforniaZeroCostJuly.png')"
   ]
  },
  {
   "cell_type": "code",
   "execution_count": 15,
   "metadata": {},
   "outputs": [
    {
     "data": {
      "text/plain": [
       "Text(0.5, 1.07, 'Electricity mix')"
      ]
     },
     "execution_count": 15,
     "metadata": {},
     "output_type": "execute_result"
    },
    {
     "data": {
      "image/png": "[encoded data removed]",
      "text/plain": [
       "<Figure size 432x288 with 1 Axes>"
      ]
     },
     "metadata": {},
     "output_type": "display_data"
    }
   ],
   "source": [
    "labels = ['onshore wind', \n",
    "          'solar', \n",
    "          'gas (OCGT)']\n",
    "sizes = [network.generators_t.p['onshorewind'].sum(),\n",
    "         network.generators_t.p['solar'].sum(),\n",
    "         network.generators_t.p['OCGT'].sum()]\n",
    "\n",
    "colors=['blue', 'orange', 'brown']\n",
    "\n",
    "plt.pie(sizes, \n",
    "        colors=colors, \n",
    "        labels=labels, \n",
    "        wedgeprops={'linewidth':0})\n",
    "plt.axis('equal')\n",
    "\n",
    "plt.title('Electricity mix', y=1.07)"
   ]
  },
  {
   "cell_type": "markdown",
   "metadata": {},
   "source": [
    "We can add a global CO2 constraint and solve again."
   ]
  },
  {
   "cell_type": "code",
   "execution_count": 16,
   "metadata": {},
   "outputs": [],
   "source": [
    "co2_limit=400000 #tonCO2 #global as in system global\n",
    "network.add(\"GlobalConstraint\",\n",
    "            \"co2_limit\",\n",
    "            type=\"primary_energy\",\n",
    "            carrier_attribute=\"co2_emissions\",\n",
    "            sense=\"<=\",\n",
    "            constant=co2_limit)"
   ]
  },
  {
   "cell_type": "code",
   "execution_count": 17,
   "metadata": {},
   "outputs": [
    {
     "name": "stderr",
     "output_type": "stream",
     "text": [
      "INFO:pypsa.linopf:Prepare linear problem\n",
      "INFO:pypsa.linopf:Total preparation time: 0.97s\n",
      "INFO:pypsa.linopf:Solve linear problem using Gurobi solver\n"
     ]
    },
    {
     "name": "stdout",
     "output_type": "stream",
     "text": [
      "Read LP format model from file /var/folders/x3/vnc5_2m96vsfhyjnwg076wzr0000gn/T/pypsa-problem-rqxmpsur.lp\n",
      "Reading time = 0.13 seconds\n",
      "obj: 61321 rows, 26284 columns, 109498 nonzeros\n",
      "Gurobi Optimizer version 9.1.2 build v9.1.2rc0 (mac64)\n",
      "Thread count: 4 physical cores, 8 logical processors, using up to 8 threads\n",
      "Optimize a model with 61321 rows, 26284 columns and 109498 nonzeros\n",
      "Model fingerprint: 0x47613cda\n",
      "Coefficient statistics:\n",
      "  Matrix range     [1e-03, 1e+00]\n",
      "  Objective range  [1e+00, 8e+04]\n",
      "  Bounds range     [0e+00, 0e+00]\n",
      "  RHS range        [2e+04, 4e+05]\n",
      "\n",
      "Concurrent LP optimizer: dual simplex and barrier\n",
      "Showing barrier log only...\n",
      "\n",
      "Presolve removed 35044 rows and 8765 columns\n",
      "Presolve time: 0.07s\n",
      "Presolved: 26277 rows, 17519 columns, 65690 nonzeros\n",
      "\n",
      "Ordering time: 0.00s\n",
      "\n",
      "Barrier statistics:\n",
      " Dense cols : 3\n",
      " AA' NZ     : 5.693e+04\n",
      " Factor NZ  : 1.534e+05 (roughly 20 MBytes of memory)\n",
      " Factor Ops : 9.446e+05 (less than 1 second per iteration)\n",
      " Threads    : 1\n",
      "\n",
      "                  Objective                Residual\n",
      "Iter       Primal          Dual         Primal    Dual     Compl     Time\n",
      "   0  -6.58265430e+11 -1.52392162e+11  3.53e+06 0.00e+00  5.17e+09     0s\n",
      "   1   4.38668275e+11 -5.15445588e+11  6.73e+05 1.95e+03  1.46e+09     0s\n",
      "   2   7.25626818e+11 -7.19556087e+11  2.44e+04 6.38e+01  8.04e+07     0s\n",
      "   3   3.43725255e+11 -2.35708749e+11  3.61e+03 2.56e+00  1.58e+07     0s\n",
      "   4   1.26328373e+11 -4.13343412e+10  9.88e+02 5.82e-10  4.29e+06     0s\n",
      "   5   9.29183442e+10 -1.82685596e+10  5.81e+02 2.33e-10  2.80e+06     0s\n",
      "   6   8.28742113e+10 -1.11473672e+10  4.46e+02 2.69e-10  2.35e+06     0s\n",
      "   7   7.49377565e+10  1.11827888e+10  3.41e+02 2.16e-11  1.64e+06     0s\n",
      "   8   6.87319737e+10  1.58763784e+10  2.31e+02 1.89e-10  1.35e+06     0s\n",
      "   9   6.74007973e+10  2.66356956e+10  1.79e+02 3.93e-10  1.07e+06     0s\n",
      "  10   6.65999519e+10  2.82071407e+10  1.53e+02 2.62e-10  1.00e+06     0s\n",
      "  11   6.65155866e+10  4.19539599e+10  1.42e+02 1.02e-10  7.23e+05     0s\n",
      "  12   6.66044329e+10  4.83362960e+10  1.21e+02 6.53e-11  5.78e+05     0s\n",
      "  13   6.66949724e+10  5.15316609e+10  1.17e+02 1.09e-10  5.11e+05     0s\n",
      "  14   6.67953756e+10  5.25297964e+10  1.04e+02 6.98e-10  4.76e+05     0s\n",
      "  15   6.69462947e+10  5.37949987e+10  9.71e+01 6.16e-11  4.45e+05     0s\n",
      "  16   6.71454858e+10  5.55676162e+10  8.38e+01 1.82e-10  3.94e+05     0s\n",
      "  17   6.71594884e+10  5.61759484e+10  7.97e+01 6.16e-11  3.76e+05     0s\n",
      "  18   6.71294589e+10  5.80497289e+10  6.37e+01 1.46e-10  3.14e+05     0s\n",
      "  19   6.71090449e+10  5.85244713e+10  5.82e+01 2.33e-10  2.95e+05     0s\n",
      "  20   6.73194055e+10  5.98329055e+10  5.34e+01 1.53e-10  2.65e+05     0s\n",
      "  21   6.75322135e+10  6.17549735e+10  4.58e+01 3.78e-10  2.17e+05     0s\n",
      "  22   6.76358793e+10  6.22096347e+10  4.28e+01 9.80e-11  2.04e+05     0s\n",
      "  23   6.81237091e+10  6.29762225e+10  3.63e+01 6.84e-10  1.87e+05     0s\n",
      "  24   6.83449923e+10  6.33224347e+10  3.36e+01 1.60e-10  1.79e+05     0s\n",
      "  25   6.85198138e+10  6.41056658e+10  2.89e+01 2.76e-10  1.58e+05     0s\n",
      "  26   6.86904664e+10  6.46774585e+10  2.66e+01 9.07e-11  1.45e+05     0s\n",
      "  27   6.89354723e+10  6.51911782e+10  2.21e+01 1.60e-10  1.31e+05     0s\n",
      "  28   6.91062813e+10  6.55898455e+10  1.85e+01 1.46e-10  1.19e+05     0s\n",
      "  29   6.91873770e+10  6.59174389e+10  1.59e+01 9.07e-11  1.08e+05     0s\n",
      "  30   6.92476451e+10  6.70555773e+10  1.49e+01 2.62e-10  8.22e+04     0s\n",
      "  31   6.93674306e+10  6.74437346e+10  1.29e+01 2.11e-10  7.23e+04     0s\n",
      "  32   6.95304958e+10  6.79818681e+10  1.04e+01 3.20e-10  5.86e+04     1s\n",
      "  33   6.96332803e+10  6.85614290e+10  8.76e+00 7.28e-10  4.43e+04     1s\n",
      "  34   6.97399474e+10  6.87000962e+10  6.73e+00 4.47e-10  3.91e+04     1s\n",
      "  35   6.98076494e+10  6.91981792e+10  5.63e+00 3.02e-10  2.70e+04     1s\n",
      "  36   6.98367095e+10  6.92408374e+10  5.17e+00 3.02e-10  2.57e+04     1s\n",
      "  37   6.98620950e+10  6.92977702e+10  4.77e+00 2.87e-10  2.41e+04     1s\n",
      "  38   6.99758572e+10  6.94044716e+10  3.05e+00 6.55e-10  2.03e+04     1s\n",
      "  39   7.00032618e+10  6.94443819e+10  2.64e+00 2.07e-10  1.91e+04     1s\n",
      "  40   7.00370520e+10  6.94676093e+10  2.14e+00 3.57e-10  1.81e+04     1s\n",
      "  41   7.00583449e+10  6.97466442e+10  1.87e+00 4.00e-10  1.16e+04     1s\n",
      "  42   7.01893257e+10  6.98149843e+10  1.21e-01 9.24e-10  8.87e+03     1s\n",
      "  43   7.01922117e+10  7.01704119e+10  2.09e-08 2.12e-09  4.98e+02     1s\n",
      "  44   7.01858667e+10  7.01858452e+10  1.22e-07 4.00e-10  4.91e-01     1s\n",
      "  45   7.01858599e+10  7.01858599e+10  4.06e-09 6.18e-09  8.02e-07     1s\n",
      "  46   7.01858599e+10  7.01858599e+10  1.08e-07 6.58e-09  8.02e-13     1s\n",
      "\n",
      "Barrier solved model in 46 iterations and 0.68 seconds\n",
      "Optimal objective 7.01858599e+10\n",
      "\n",
      "Crossover log...\n",
      "\n",
      "       3 DPushes remaining with DInf 0.0000000e+00                 1s\n",
      "       0 DPushes remaining with DInf 0.0000000e+00                 1s\n",
      "\n",
      "    4346 PPushes remaining with PInf 0.0000000e+00                 1s\n",
      "       0 PPushes remaining with PInf 0.0000000e+00                 1s\n",
      "\n",
      "  Push phase complete: Pinf 0.0000000e+00, Dinf 2.3663915e-10      1s\n",
      "\n",
      "Iteration    Objective       Primal Inf.    Dual Inf.      Time\n",
      "    4352    7.0185860e+10   0.000000e+00   0.000000e+00      1s\n",
      "\n",
      "Solved with barrier\n",
      "Solved in 4352 iterations and 0.75 seconds\n",
      "Optimal objective  7.018585987e+10\n"
     ]
    },
    {
     "name": "stderr",
     "output_type": "stream",
     "text": [
      "INFO:pypsa.linopf:Optimization successful. Objective value: 7.02e+10\n"
     ]
    },
    {
     "data": {
      "text/plain": [
       "('ok', 'optimal')"
      ]
     },
     "execution_count": 17,
     "metadata": {},
     "output_type": "execute_result"
    }
   ],
   "source": [
    "network.lopf(network.snapshots, \n",
    "             pyomo=False,\n",
    "             solver_name='gurobi')"
   ]
  },
  {
   "cell_type": "code",
   "execution_count": 18,
   "metadata": {},
   "outputs": [
    {
     "data": {
      "text/plain": [
       "onshorewind    860949.403107\n",
       "solar           93333.623213\n",
       "OCGT            27060.407163\n",
       "Name: p_nom_opt, dtype: float64"
      ]
     },
     "execution_count": 18,
     "metadata": {},
     "output_type": "execute_result"
    }
   ],
   "source": [
    "network.generators.p_nom_opt #in MW"
   ]
  },
  {
   "cell_type": "code",
   "execution_count": 19,
   "metadata": {},
   "outputs": [
    {
     "data": {
      "text/plain": [
       "<matplotlib.legend.Legend at 0x7ff0eb177250>"
      ]
     },
     "execution_count": 19,
     "metadata": {},
     "output_type": "execute_result"
    },
    {
     "data": {
      "image/png": "[encoded data removed]",
      "text/plain": [
       "<Figure size 432x288 with 1 Axes>"
      ]
     },
     "metadata": {
      "needs_background": "light"
     },
     "output_type": "display_data"
    }
   ],
   "source": [
    "import matplotlib.pyplot as plt\n",
    "\n",
    "plt.plot(network.loads_t.p['load'][0:96], color='black', label='demand')#why does the demand curve not go all the way? why is the gas curve so weird?\n",
    "plt.plot(network.generators_t.p['onshorewind'][0:96], color='blue', label='onshore wind')\n",
    "plt.plot(network.generators_t.p['solar'][0:96], color='orange', label='solar')\n",
    "plt.plot(network.generators_t.p['OCGT'][0:96], color='brown', label='gas (OCGT)')\n",
    "plt.legend(fancybox=True, shadow=True, loc='best')"
   ]
  },
  {
   "cell_type": "code",
   "execution_count": 20,
   "metadata": {},
   "outputs": [
    {
     "data": {
      "text/plain": [
       "Text(0.5, 1.07, 'Electricity mix')"
      ]
     },
     "execution_count": 20,
     "metadata": {},
     "output_type": "execute_result"
    },
    {
     "data": {
      "image/png": "[encoded data removed]",
      "text/plain": [
       "<Figure size 432x288 with 1 Axes>"
      ]
     },
     "metadata": {},
     "output_type": "display_data"
    }
   ],
   "source": [
    "labels = ['onshore wind', 'solar', 'gas (OCGT)' ]\n",
    "sizes = [network.generators_t.p['onshorewind'].sum(),\n",
    "         network.generators_t.p['solar'].sum(),\n",
    "         network.generators_t.p['OCGT'].sum()]\n",
    "\n",
    "colors = ['blue', 'orange', 'brown']\n",
    "\n",
    "plt.pie(sizes, \n",
    "        colors=colors, \n",
    "        labels=labels, \n",
    "        wedgeprops={'linewidth':0})\n",
    "plt.axis('equal')\n",
    "\n",
    "plt.title('Electricity mix', y=1.07)"
   ]
  },
  {
   "cell_type": "markdown",
   "metadata": {},
   "source": [
    "## PROJECT INSTRUCTIONS\n",
    "\n",
    "Based on the previous example, you are asked to carry out the following tasks:\n",
    "\n",
    "A. Choose a different country/region and calculate the optimal capacities for renewable and non-renewable generators. You can add as many technologies as you want. Remember to provide a reference for the cost assumptions. Plot the dispatch time series for a week in summer and winter. Plot the annual electricity mix. Use the duration curves or the capacity factor to investigate the contribution from different technologies. \n",
    "\n",
    "B. Investigate how sensitive is the optimum capacity mix to the global CO2 constraint. E.g., plot the generation mix as a function of the CO2 constraint that you impose. Search for the CO2 emissions in your country (today or in 1990) and refer the emissions allowance to that historical data. \n",
    "\n",
    "C. Investigate how sensitive are your results to the interannual variability of solar and wind generation. Plot the average capacity and variability obtained for every generator using different weather years. \n",
    "\n",
    "D. Add some storage technology/ies and investigate how they behave and what is their impact on the optimal system configuration. \n",
    "\n",
    "E. Discuss what strategies is your system using to balance the renewable generation at different time scales (intraday, seasonal, etc.) \n",
    "\n",
    "F. Select on target for decarbonization (i.e., one CO2 allowance limit). What is the CO2 price required to achieve that decarbonization level? Search for information on the existing CO2 tax in your country (if any) and discuss your result. \n",
    "\n",
    "G. Connect your country with, at least, two neighbour countries. You can assume that the capacities in the neighbours are fixed or cooptimize the whole system. You can also include fixed interconnection capacities or cooptimize them with the generators capacities. Discuss your results.\n",
    "\n",
    "H. Connect the electricity sector with another sector such as heating or transport, and cooptimize the two sectors. Discuss your results.\n",
    "\n",
    "I. Finally, select one topic that is under discussion in your region. Design and implement some experiment to obtain relevant information regarding that topic. E.g. \n",
    "\n",
    "[-] What are the consequences if Denmark decides not to install more onshore wind? \n",
    "\n",
    "[-] Would it be more expensive if France decides to close its nuclear power plants? \n",
    "\n",
    "[-] What will be the main impacts of the Viking link?\n",
    "\n",
    "Write a short report (maximum 10 pages) including your main findings."
   ]
  },
  {
   "cell_type": "code",
   "execution_count": 21,
   "metadata": {},
   "outputs": [],
   "source": [
    "###What is a duration curve?\n"
   ]
  },
  {
   "cell_type": "markdown",
   "metadata": {},
   "source": [
    "\n",
    "\n",
    "\n",
    "_TIP 1: You can add a link with the following code_\n",
    "\n",
    "The efficiency will be 1 if you are connecting two countries and different from one if, for example, you are connecting the electricity bus to the heating bus using a heat pump.\n",
    "Setting p_min_pu=-1 makes the link reversible.\n"
   ]
  },
  {
   "cell_type": "code",
   "execution_count": 22,
   "metadata": {},
   "outputs": [
    {
     "name": "stderr",
     "output_type": "stream",
     "text": [
      "WARNING:pypsa.components:The bus name `electricity bus country a` given for bus0 of Link `country a - country b` does not appear in network.buses\n",
      "WARNING:pypsa.components:The bus name `electricity bus country b` given for bus1 of Link `country a - country b` does not appear in network.buses\n"
     ]
    }
   ],
   "source": [
    "network.add(\"Link\",\n",
    "             'country a - country b',\n",
    "             bus0=\"electricity bus country a\",\n",
    "             bus1=\"electricity bus country b\",\n",
    "             p_nom_extendable=True, # capacity is optimised\n",
    "             p_min_pu=-1,\n",
    "             length=600, # length (in km) between country a and country b\n",
    "             capital_cost=400*600) # capital cost * length "
   ]
  },
  {
   "cell_type": "markdown",
   "metadata": {},
   "source": [
    "\n",
    "_TIP 2: You can check the KKT multiplier associated with the constraint with the following code_\n"
   ]
  },
  {
   "cell_type": "code",
   "execution_count": 23,
   "metadata": {},
   "outputs": [
    {
     "name": "stdout",
     "output_type": "stream",
     "text": [
      "co2_limit    400000.0\n",
      "Name: constant, dtype: float64\n",
      "co2_limit    73378.663127\n",
      "Name: mu, dtype: float64\n"
     ]
    }
   ],
   "source": [
    "print(network.global_constraints.constant) #CO2 limit (constant in the constraint)\n",
    "\n",
    "print(network.global_constraints.mu) #CO2 price (Lagrance multiplier in the constraint)"
   ]
  },
  {
   "cell_type": "markdown",
   "metadata": {},
   "source": [
    "TIP 3: You can add a H2 store connected to the electricity bus via an electrolyzer and a fuel cell with the following code. "
   ]
  },
  {
   "cell_type": "code",
   "execution_count": 24,
   "metadata": {},
   "outputs": [],
   "source": [
    "#Create a new carrier\n",
    "network.add(\"Carrier\",\n",
    "      \"H2\")\n",
    "\n",
    "#Create a new bus\n",
    "network.add(\"Bus\",\n",
    "      \"H2\",\n",
    "      carrier = \"H2\")\n",
    "\n",
    "#Connect the store to the bus\n",
    "network.add(\"Store\",\n",
    "      \"H2 Tank\",\n",
    "      bus = \"H2\",\n",
    "      e_nom_extendable = True,\n",
    "      e_cyclic = True,\n",
    "      capital_cost = annuity(25, 0.07)*57000*(1+0.011))\n",
    "\n",
    "#Add the link \"H2 Electrolysis\" that transport energy from the electricity bus (bus0) to the H2 bus (bus1)\n",
    "#with 80% efficiency\n",
    "network.add(\"Link\",\n",
    "      \"H2 Electrolysis\", \n",
    "      bus0 = \"electricity bus\",\n",
    "      bus1 = \"H2\",     \n",
    "      p_nom_extendable = True,\n",
    "      efficiency = 0.8,\n",
    "      capital_cost = annuity(25, 0.07)*600000*(1+0.05))\n",
    "\n",
    "#Add the link \"H2 Fuel Cell\" that transports energy from the H2 bus (bus0) to the electricity bus (bus1)\n",
    "#with 58% efficiency\n",
    "network.add(\"Link\",\n",
    "      \"H2 Fuel Cell\", \n",
    "      bus0 = \"H2\",\n",
    "      bus1 = \"electricity bus\",     \n",
    "      p_nom_extendable = True,\n",
    "      efficiency = 0.58,\n",
    "      capital_cost = annuity(10, 0.07)*1300000*(1+0.05)) \n"
   ]
  },
  {
   "cell_type": "code",
   "execution_count": null,
   "metadata": {},
   "outputs": [],
   "source": []
  }
 ],
 "metadata": {
  "kernelspec": {
   "display_name": "Python 3 (ipykernel)",
   "language": "python",
   "name": "python3"
  },
  "language_info": {
   "codemirror_mode": {
    "name": "ipython",
    "version": 3
   },
   "file_extension": ".py",
   "mimetype": "text/x-python",
   "name": "python",
   "nbconvert_exporter": "python",
   "pygments_lexer": "ipython3",
   "version": "3.8.11"
  }
 },
 "nbformat": 4,
 "nbformat_minor": 1
}
