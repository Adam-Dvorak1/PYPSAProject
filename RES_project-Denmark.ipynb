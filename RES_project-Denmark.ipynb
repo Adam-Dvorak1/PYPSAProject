{
 "cells": [
  {
   "cell_type": "markdown",
   "metadata": {},
   "source": [
    "###### Aarhus University - Fall 2021 - Renewable Energy Systems (RES) project \n",
    "\n",
    "This notebook includes the steps to optimize the capacity and dispatch of generators in the power system of one country.\n",
    "Make sure that you understand every step in this notebook. For the project of the course Renewable Energy Systems (RES) you need to deliver a report including the sections described at the end of this notebook."
   ]
  },
  {
   "cell_type": "code",
   "execution_count": 26,
   "metadata": {},
   "outputs": [],
   "source": [
    "import pypsa"
   ]
  },
  {
   "cell_type": "markdown",
   "metadata": {},
   "source": [
    "Pandas package is very useful to work with imported data, time series, matrices ...\n",
    "\n",
    "You can find a 10-minutes guide to pandas in the following link\n",
    "https://pandas.pydata.org/pandas-docs/stable/user_guide/10min.html"
   ]
  },
  {
   "cell_type": "code",
   "execution_count": 27,
   "metadata": {},
   "outputs": [],
   "source": [
    "import pandas as pd"
   ]
  },
  {
   "cell_type": "markdown",
   "metadata": {},
   "source": [
    "We start by creating the network. In this example, the country is modelled as a single node, so the network will only include one bus.\n",
    "\n",
    "We select the year 2015 and set the hours in that year as snapshots.\n",
    "\n",
    "We select a country, in this case, Spain (ESP), and add one node (electricity bus) to the network."
   ]
  },
  {
   "cell_type": "code",
   "execution_count": 28,
   "metadata": {},
   "outputs": [
    {
     "data": {
      "text/plain": [
       "DatetimeIndex(['2015-01-01 00:00:00+00:00', '2015-01-01 01:00:00+00:00',\n",
       "               '2015-01-01 02:00:00+00:00', '2015-01-01 03:00:00+00:00',\n",
       "               '2015-01-01 04:00:00+00:00', '2015-01-01 05:00:00+00:00',\n",
       "               '2015-01-01 06:00:00+00:00', '2015-01-01 07:00:00+00:00',\n",
       "               '2015-01-01 08:00:00+00:00', '2015-01-01 09:00:00+00:00',\n",
       "               ...\n",
       "               '2015-12-31 14:00:00+00:00', '2015-12-31 15:00:00+00:00',\n",
       "               '2015-12-31 16:00:00+00:00', '2015-12-31 17:00:00+00:00',\n",
       "               '2015-12-31 18:00:00+00:00', '2015-12-31 19:00:00+00:00',\n",
       "               '2015-12-31 20:00:00+00:00', '2015-12-31 21:00:00+00:00',\n",
       "               '2015-12-31 22:00:00+00:00', '2015-12-31 23:00:00+00:00'],\n",
       "              dtype='datetime64[ns, UTC]', name='snapshot', length=8760, freq='H')"
      ]
     },
     "execution_count": 28,
     "metadata": {},
     "output_type": "execute_result"
    }
   ],
   "source": [
    "network = pypsa.Network()\n",
    "hours_in_2015 = pd.date_range('2015-01-01T00:00Z','2015-12-31T23:00Z', freq='H')\n",
    "network.set_snapshots(hours_in_2015)\n",
    "\n",
    "network.add(\"Bus\",\"electricity bus\")\n",
    "\n",
    "network.snapshots"
   ]
  },
  {
   "cell_type": "markdown",
   "metadata": {},
   "source": [
    "The demand is represented by the historical electricity demand in 2015 with hourly resolution. \n",
    "\n",
    "The file with historical hourly electricity demand for every European country is available in the data folder.\n",
    "\n",
    "The electricity demand time series were obtained from ENTSOE through the very convenient compilation carried out by the Open Power System Data (OPSD). https://data.open-power-system-data.org/time_series/"
   ]
  },
  {
   "cell_type": "code",
   "execution_count": 29,
   "metadata": {},
   "outputs": [
    {
     "name": "stdout",
     "output_type": "stream",
     "text": [
      "utc_time\n",
      "2015-01-01 00:00:00+00:00    3210.98\n",
      "2015-01-01 01:00:00+00:00    3100.02\n",
      "2015-01-01 02:00:00+00:00    2980.39\n",
      "2015-01-01 03:00:00+00:00    2933.49\n",
      "2015-01-01 04:00:00+00:00    2941.54\n",
      "Name: DNK, dtype: float64\n"
     ]
    }
   ],
   "source": [
    "# load electricity demand data\n",
    "df_elec = pd.read_csv('data/electricity_demand.csv', sep=';', index_col=0) # in MWh\n",
    "df_elec.index = pd.to_datetime(df_elec.index) #change index to datatime\n",
    "print(df_elec['DNK'].head())"
   ]
  },
  {
   "cell_type": "code",
   "execution_count": 30,
   "metadata": {},
   "outputs": [],
   "source": [
    "# add load to the bus\n",
    "network.add(\"Load\",\n",
    "            \"load\", \n",
    "            bus=\"electricity bus\", \n",
    "            p_set=df_elec['DNK'])"
   ]
  },
  {
   "cell_type": "markdown",
   "metadata": {},
   "source": [
    "Print the load time series to check that it has been properly added (you should see numbers and not 'NaN')"
   ]
  },
  {
   "cell_type": "code",
   "execution_count": 31,
   "metadata": {},
   "outputs": [
    {
     "data": {
      "text/html": [
       "<div>\n",
       "<style scoped>\n",
       "    .dataframe tbody tr th:only-of-type {\n",
       "        vertical-align: middle;\n",
       "    }\n",
       "\n",
       "    .dataframe tbody tr th {\n",
       "        vertical-align: top;\n",
       "    }\n",
       "\n",
       "    .dataframe thead th {\n",
       "        text-align: right;\n",
       "    }\n",
       "</style>\n",
       "<table border=\"1\" class=\"dataframe\">\n",
       "  <thead>\n",
       "    <tr style=\"text-align: right;\">\n",
       "      <th></th>\n",
       "      <th>load</th>\n",
       "    </tr>\n",
       "    <tr>\n",
       "      <th>snapshot</th>\n",
       "      <th></th>\n",
       "    </tr>\n",
       "  </thead>\n",
       "  <tbody>\n",
       "    <tr>\n",
       "      <th>2015-01-01 00:00:00+00:00</th>\n",
       "      <td>3210.98</td>\n",
       "    </tr>\n",
       "    <tr>\n",
       "      <th>2015-01-01 01:00:00+00:00</th>\n",
       "      <td>3100.02</td>\n",
       "    </tr>\n",
       "    <tr>\n",
       "      <th>2015-01-01 02:00:00+00:00</th>\n",
       "      <td>2980.39</td>\n",
       "    </tr>\n",
       "    <tr>\n",
       "      <th>2015-01-01 03:00:00+00:00</th>\n",
       "      <td>2933.49</td>\n",
       "    </tr>\n",
       "    <tr>\n",
       "      <th>2015-01-01 04:00:00+00:00</th>\n",
       "      <td>2941.54</td>\n",
       "    </tr>\n",
       "    <tr>\n",
       "      <th>...</th>\n",
       "      <td>...</td>\n",
       "    </tr>\n",
       "    <tr>\n",
       "      <th>2015-12-31 19:00:00+00:00</th>\n",
       "      <td>3687.87</td>\n",
       "    </tr>\n",
       "    <tr>\n",
       "      <th>2015-12-31 20:00:00+00:00</th>\n",
       "      <td>3535.55</td>\n",
       "    </tr>\n",
       "    <tr>\n",
       "      <th>2015-12-31 21:00:00+00:00</th>\n",
       "      <td>3389.26</td>\n",
       "    </tr>\n",
       "    <tr>\n",
       "      <th>2015-12-31 22:00:00+00:00</th>\n",
       "      <td>3262.27</td>\n",
       "    </tr>\n",
       "    <tr>\n",
       "      <th>2015-12-31 23:00:00+00:00</th>\n",
       "      <td>3158.85</td>\n",
       "    </tr>\n",
       "  </tbody>\n",
       "</table>\n",
       "<p>8760 rows × 1 columns</p>\n",
       "</div>"
      ],
      "text/plain": [
       "                              load\n",
       "snapshot                          \n",
       "2015-01-01 00:00:00+00:00  3210.98\n",
       "2015-01-01 01:00:00+00:00  3100.02\n",
       "2015-01-01 02:00:00+00:00  2980.39\n",
       "2015-01-01 03:00:00+00:00  2933.49\n",
       "2015-01-01 04:00:00+00:00  2941.54\n",
       "...                            ...\n",
       "2015-12-31 19:00:00+00:00  3687.87\n",
       "2015-12-31 20:00:00+00:00  3535.55\n",
       "2015-12-31 21:00:00+00:00  3389.26\n",
       "2015-12-31 22:00:00+00:00  3262.27\n",
       "2015-12-31 23:00:00+00:00  3158.85\n",
       "\n",
       "[8760 rows x 1 columns]"
      ]
     },
     "execution_count": 31,
     "metadata": {},
     "output_type": "execute_result"
    }
   ],
   "source": [
    "network.loads_t.p_set"
   ]
  },
  {
   "cell_type": "markdown",
   "metadata": {},
   "source": [
    "In the optimization, we will minimize the annualized system costs.\n",
    "\n",
    "We will need to annualize the cost of every generator, we build a function to do it."
   ]
  },
  {
   "cell_type": "code",
   "execution_count": 32,
   "metadata": {},
   "outputs": [],
   "source": [
    "def annuity(n,r):\n",
    "    \"\"\"Calculate the annuity factor for an asset with lifetime n years and\n",
    "    discount rate of r, e.g. annuity(20,0.05)*20 = 1.6\"\"\"\n",
    "\n",
    "    if r > 0:\n",
    "        return r/(1. - 1./(1.+r)**n)\n",
    "    else:\n",
    "        return 1/n\n"
   ]
  },
  {
   "cell_type": "code",
   "execution_count": 33,
   "metadata": {},
   "outputs": [
    {
     "name": "stdout",
     "output_type": "stream",
     "text": [
      "37563.55391334636\n"
     ]
    }
   ],
   "source": [
    "print(annuity(25,0.07)*425000*(1+0.03))"
   ]
  },
  {
   "cell_type": "markdown",
   "metadata": {},
   "source": [
    "We include solar PV and onshore wind generators. \n",
    "\n",
    "The capacity factors representing the availability of those generators for every European country can be downloaded from the following repositories (select 'optimal' for PV and onshore for wind). \n",
    "\n",
    "https://zenodo.org/record/3253876#.XSiVOEdS8l0\n",
    "\n",
    "https://zenodo.org/record/2613651#.XSiVOkdS8l0\n",
    "\n",
    "We include also Open Cycle Gas Turbine (OCGT) generators\n",
    "\n",
    "The cost assumed for the generators are the same as in the paper https://doi.org/10.1016/j.enconman.2019.111977 (open version:  https://arxiv.org/pdf/1906.06936.pdf)"
   ]
  },
  {
   "cell_type": "code",
   "execution_count": 34,
   "metadata": {},
   "outputs": [],
   "source": [
    "# add the different carriers, only gas emits CO2\n",
    "network.add(\"Carrier\", \"gas\", co2_emissions=0.19) # in t_CO2/MWh_th\n",
    "network.add(\"Carrier\", \"onshorewind\")\n",
    "network.add(\"Carrier\", \"solar\")\n",
    "\n",
    "# add onshore wind generator\n",
    "df_onshorewind = pd.read_csv('data_extra/onshore_wind_1979-2017.csv', sep=';', index_col=0)\n",
    "df_onshorewind.index = pd.to_datetime(df_onshorewind.index)\n",
    "CF_wind = df_onshorewind['DNK'][[hour.strftime(\"%Y-%m-%dT%H:%M:%SZ\") for hour in network.snapshots]]\n",
    "capital_cost_onshorewind = annuity(27,0.07)*1118000*(1+0.012)# in €/MW #Where are these numbers coming from?\n",
    "#More specifically, where does the 0.07 and the 1000 multiplying the 910000 come from?\n",
    "network.add(\"Generator\",\n",
    "            \"onshorewind\",\n",
    "            bus=\"electricity bus\",\n",
    "            p_nom_extendable=True,\n",
    "            carrier=\"onshorewind\",\n",
    "            #p_nom_max=1000, # maximum capacity can be limited due to environmental constraints\n",
    "            capital_cost = capital_cost_onshorewind,\n",
    "            marginal_cost = 0,\n",
    "            p_max_pu = CF_wind) #Does this add \n",
    "\n",
    "# add solar PV generator\n",
    "df_solar = pd.read_csv('data_extra/pv_optimal.csv', sep=';', index_col=0)\n",
    "df_solar.index = pd.to_datetime(df_solar.index)\n",
    "CF_solar = df_solar['DNK'][[hour.strftime(\"%Y-%m-%dT%H:%M:%SZ\") for hour in network.snapshots]]\n",
    "#capital_cost_solar = 0\n",
    "capital_cost_solar = annuity(25,0.07)*453000*(1+0.018) # in €/MW\n",
    "#This adds up to be  37563 EUR/MW. Let's take a ra\n",
    "\n",
    "network.add(\"Generator\",\n",
    "            \"solar\",\n",
    "            bus=\"electricity bus\",\n",
    "            p_nom_extendable=True,\n",
    "            carrier=\"solar\",\n",
    "            #p_nom_max=1000, # maximum capacity can be limited due to environmental constraints\n",
    "            capital_cost = capital_cost_solar,\n",
    "            marginal_cost = 0,\n",
    "            p_max_pu = CF_solar)\n",
    "\n",
    "# add OCGT (Open Cycle Gas Turbine) generator\n",
    "capital_cost_OCGT = annuity(25,0.07)*560000*(1+0.033) # in €/MW\n",
    "fuel_cost = 21.6 # in €/MWh_th\n",
    "efficiency = 0.39\n",
    "marginal_cost_OCGT = fuel_cost/efficiency # in €/MWh_el\n",
    "network.add(\"Generator\",\n",
    "            \"OCGT\",\n",
    "            bus=\"electricity bus\",\n",
    "            p_nom_extendable=True,\n",
    "            carrier=\"gas\",\n",
    "            #p_nom_max=1000,\n",
    "            capital_cost = capital_cost_OCGT,\n",
    "            marginal_cost = marginal_cost_OCGT)"
   ]
  },
  {
   "cell_type": "markdown",
   "metadata": {},
   "source": [
    "Print the generator Capacity factor time series to check that it has been properly added (you should see numbers and not 'NaN')"
   ]
  },
  {
   "cell_type": "code",
   "execution_count": 35,
   "metadata": {},
   "outputs": [
    {
     "data": {
      "text/html": [
       "<div>\n",
       "<style scoped>\n",
       "    .dataframe tbody tr th:only-of-type {\n",
       "        vertical-align: middle;\n",
       "    }\n",
       "\n",
       "    .dataframe tbody tr th {\n",
       "        vertical-align: top;\n",
       "    }\n",
       "\n",
       "    .dataframe thead th {\n",
       "        text-align: right;\n",
       "    }\n",
       "</style>\n",
       "<table border=\"1\" class=\"dataframe\">\n",
       "  <thead>\n",
       "    <tr style=\"text-align: right;\">\n",
       "      <th></th>\n",
       "      <th>onshorewind</th>\n",
       "      <th>solar</th>\n",
       "    </tr>\n",
       "    <tr>\n",
       "      <th>snapshot</th>\n",
       "      <th></th>\n",
       "      <th></th>\n",
       "    </tr>\n",
       "  </thead>\n",
       "  <tbody>\n",
       "    <tr>\n",
       "      <th>2015-01-01 00:00:00+00:00</th>\n",
       "      <td>0.460</td>\n",
       "      <td>0.0</td>\n",
       "    </tr>\n",
       "    <tr>\n",
       "      <th>2015-01-01 01:00:00+00:00</th>\n",
       "      <td>0.465</td>\n",
       "      <td>0.0</td>\n",
       "    </tr>\n",
       "    <tr>\n",
       "      <th>2015-01-01 02:00:00+00:00</th>\n",
       "      <td>0.478</td>\n",
       "      <td>0.0</td>\n",
       "    </tr>\n",
       "    <tr>\n",
       "      <th>2015-01-01 03:00:00+00:00</th>\n",
       "      <td>0.548</td>\n",
       "      <td>0.0</td>\n",
       "    </tr>\n",
       "    <tr>\n",
       "      <th>2015-01-01 04:00:00+00:00</th>\n",
       "      <td>0.593</td>\n",
       "      <td>0.0</td>\n",
       "    </tr>\n",
       "    <tr>\n",
       "      <th>...</th>\n",
       "      <td>...</td>\n",
       "      <td>...</td>\n",
       "    </tr>\n",
       "    <tr>\n",
       "      <th>2015-12-31 19:00:00+00:00</th>\n",
       "      <td>0.174</td>\n",
       "      <td>0.0</td>\n",
       "    </tr>\n",
       "    <tr>\n",
       "      <th>2015-12-31 20:00:00+00:00</th>\n",
       "      <td>0.145</td>\n",
       "      <td>0.0</td>\n",
       "    </tr>\n",
       "    <tr>\n",
       "      <th>2015-12-31 21:00:00+00:00</th>\n",
       "      <td>0.141</td>\n",
       "      <td>0.0</td>\n",
       "    </tr>\n",
       "    <tr>\n",
       "      <th>2015-12-31 22:00:00+00:00</th>\n",
       "      <td>0.164</td>\n",
       "      <td>0.0</td>\n",
       "    </tr>\n",
       "    <tr>\n",
       "      <th>2015-12-31 23:00:00+00:00</th>\n",
       "      <td>0.204</td>\n",
       "      <td>0.0</td>\n",
       "    </tr>\n",
       "  </tbody>\n",
       "</table>\n",
       "<p>8760 rows × 2 columns</p>\n",
       "</div>"
      ],
      "text/plain": [
       "                           onshorewind  solar\n",
       "snapshot                                     \n",
       "2015-01-01 00:00:00+00:00        0.460    0.0\n",
       "2015-01-01 01:00:00+00:00        0.465    0.0\n",
       "2015-01-01 02:00:00+00:00        0.478    0.0\n",
       "2015-01-01 03:00:00+00:00        0.548    0.0\n",
       "2015-01-01 04:00:00+00:00        0.593    0.0\n",
       "...                                ...    ...\n",
       "2015-12-31 19:00:00+00:00        0.174    0.0\n",
       "2015-12-31 20:00:00+00:00        0.145    0.0\n",
       "2015-12-31 21:00:00+00:00        0.141    0.0\n",
       "2015-12-31 22:00:00+00:00        0.164    0.0\n",
       "2015-12-31 23:00:00+00:00        0.204    0.0\n",
       "\n",
       "[8760 rows x 2 columns]"
      ]
     },
     "execution_count": 35,
     "metadata": {},
     "output_type": "execute_result"
    }
   ],
   "source": [
    "network.generators_t.p_max_pu"
   ]
  },
  {
   "cell_type": "markdown",
   "metadata": {},
   "source": [
    "We solve the linear optimal power flow (lopf) using Gurobi as solver.\n",
    "\n",
    "In this case, we are optimising the installed capacity and dispatch of every generator to minimize the total system cost."
   ]
  },
  {
   "cell_type": "code",
   "execution_count": 36,
   "metadata": {},
   "outputs": [
    {
     "name": "stderr",
     "output_type": "stream",
     "text": [
      "INFO:pypsa.linopf:Prepare linear problem\n",
      "INFO:pypsa.linopf:Total preparation time: 2.05s\n",
      "INFO:pypsa.linopf:Solve linear problem using Gurobi solver\n"
     ]
    },
    {
     "name": "stdout",
     "output_type": "stream",
     "text": [
      "Read LP format model from file /var/folders/x3/vnc5_2m96vsfhyjnwg076wzr0000gn/T/pypsa-problem-dkzkfiac.lp\n",
      "Reading time = 0.24 seconds\n",
      "obj: 61320 rows, 26284 columns, 100747 nonzeros\n",
      "Gurobi Optimizer version 9.1.2 build v9.1.2rc0 (mac64)\n",
      "Thread count: 4 physical cores, 8 logical processors, using up to 8 threads\n",
      "Optimize a model with 61320 rows, 26284 columns and 100747 nonzeros\n",
      "Model fingerprint: 0x1a9d8946\n",
      "Coefficient statistics:\n",
      "  Matrix range     [1e-03, 1e+00]\n",
      "  Objective range  [1e+00, 9e+04]\n",
      "  Bounds range     [0e+00, 0e+00]\n",
      "  RHS range        [2e+03, 6e+03]\n",
      "\n",
      "Concurrent LP optimizer: dual simplex and barrier\n",
      "Showing barrier log only...\n",
      "\n",
      "Presolve removed 35026 rows and 8747 columns\n",
      "Presolve time: 0.18s\n",
      "Presolved: 26294 rows, 17537 columns, 56975 nonzeros\n",
      "\n",
      "Ordering time: 0.01s\n",
      "\n",
      "Barrier statistics:\n",
      " Dense cols : 3\n",
      " AA' NZ     : 3.944e+04\n",
      " Factor NZ  : 1.271e+05 (roughly 20 MBytes of memory)\n",
      " Factor Ops : 6.621e+05 (less than 1 second per iteration)\n",
      " Threads    : 1\n",
      "\n",
      "                  Objective                Residual\n",
      "Iter       Primal          Dual         Primal    Dual     Compl     Time\n",
      "   0  -5.30617426e+09 -7.87245331e+09  1.32e+04 1.06e+02  2.21e+07     0s\n",
      "   1   2.99451062e+09 -3.19624755e+10  9.77e+02 1.24e+03  3.74e+06     0s\n",
      "   2   3.86066188e+09 -3.35364960e+09  9.94e+00 1.95e+01  2.08e+05     0s\n",
      "   3   2.50819571e+09  9.47228697e+08  3.03e+00 1.29e+00  3.81e+04     0s\n",
      "   4   2.13630809e+09  1.44750431e+09  1.54e+00 1.41e-01  1.61e+04     0s\n",
      "   5   2.02344571e+09  1.60110929e+09  7.46e-01 6.20e-02  9.80e+03     0s\n",
      "   6   1.93869375e+09  1.67198357e+09  4.31e-01 3.59e-02  6.17e+03     0s\n",
      "   7   1.90645093e+09  1.77483184e+09  2.90e-01 4.54e-03  3.03e+03     0s\n",
      "   8   1.87014931e+09  1.79996824e+09  1.58e-01 4.41e-04  1.61e+03     0s\n",
      "   9   1.84788356e+09  1.80988099e+09  7.79e-02 4.31e-11  8.74e+02     0s\n",
      "  10   1.83606039e+09  1.81366454e+09  3.66e-02 3.60e-11  5.15e+02     0s\n",
      "  11   1.82878677e+09  1.81688239e+09  1.14e-02 2.63e-11  2.74e+02     0s\n",
      "  12   1.82657978e+09  1.81950407e+09  4.66e-03 5.74e-12  1.63e+02     1s\n",
      "  13   1.82585829e+09  1.82028038e+09  2.32e-03 1.47e-11  1.29e+02     1s\n",
      "  14   1.82539751e+09  1.82143572e+09  9.62e-04 1.93e-11  9.13e+01     1s\n",
      "  15   1.82506273e+09  1.82273905e+09  7.33e-05 5.12e-13  5.36e+01     1s\n",
      "  16   1.82503259e+09  1.82360273e+09  4.09e-05 6.25e-13  3.30e+01     1s\n",
      "  17   1.82501367e+09  1.82364439e+09  3.25e-05 3.55e-11  3.16e+01     1s\n",
      "  18   1.82499116e+09  1.82390315e+09  1.71e-05 6.93e-12  2.51e+01     1s\n",
      "  19   1.82498640e+09  1.82394549e+09  1.51e-05 6.82e-13  2.40e+01     1s\n",
      "  20   1.82497938e+09  1.82417951e+09  1.12e-05 1.46e-11  1.84e+01     1s\n",
      "  21   1.82497432e+09  1.82429806e+09  9.29e-06 3.41e-13  1.56e+01     1s\n",
      "  22   1.82496526e+09  1.82431892e+09  5.89e-06 2.22e-11  1.49e+01     1s\n",
      "  23   1.82496181e+09  1.82443296e+09  4.68e-06 5.05e-11  1.22e+01     1s\n",
      "  24   1.82496067e+09  1.82444135e+09  4.29e-06 1.65e-11  1.20e+01     1s\n",
      "  25   1.82495938e+09  1.82449525e+09  3.46e-06 4.51e-11  1.07e+01     1s\n",
      "  26   1.82495676e+09  1.82455152e+09  1.68e-06 6.79e-11  9.35e+00     1s\n",
      "  27   1.82495521e+09  1.82463467e+09  1.02e-06 8.71e-11  7.39e+00     1s\n",
      "  28   1.82494840e+09  1.82493324e+09  1.47e-08 1.36e-11  3.50e-01     1s\n",
      "  29   1.82494818e+09  1.82494716e+09  3.54e-08 2.27e-13  2.34e-02     1s\n",
      "  30   1.82494809e+09  1.82494742e+09  1.86e-07 1.71e-13  1.54e-02     1s\n",
      "  31   1.82494808e+09  1.82494807e+09  6.82e-12 2.27e-13  4.77e-06     1s\n",
      "  32   1.82494808e+09  1.82494808e+09  1.82e-12 3.64e-10  1.25e-11     1s\n",
      "\n",
      "Barrier solved model in 32 iterations and 0.95 seconds\n",
      "Optimal objective 1.82494808e+09\n",
      "\n",
      "Crossover log...\n",
      "\n",
      "       3 DPushes remaining with DInf 0.0000000e+00                 1s\n",
      "       0 DPushes remaining with DInf 0.0000000e+00                 1s\n",
      "\n",
      "     700 PPushes remaining with PInf 0.0000000e+00                 1s\n",
      "       0 PPushes remaining with PInf 0.0000000e+00                 1s\n",
      "\n",
      "  Push phase complete: Pinf 0.0000000e+00, Dinf 5.2790666e-10      1s\n",
      "\n",
      "Iteration    Objective       Primal Inf.    Dual Inf.      Time\n",
      "     706    1.8249481e+09   0.000000e+00   0.000000e+00      1s\n",
      "\n",
      "Solved with barrier\n",
      "Solved in 706 iterations and 1.07 seconds\n",
      "Optimal objective  1.824948075e+09\n"
     ]
    },
    {
     "name": "stderr",
     "output_type": "stream",
     "text": [
      "INFO:pypsa.linopf:Optimization successful. Objective value: 1.82e+09\n"
     ]
    },
    {
     "data": {
      "text/plain": [
       "('ok', 'optimal')"
      ]
     },
     "execution_count": 36,
     "metadata": {},
     "output_type": "execute_result"
    }
   ],
   "source": [
    "network.lopf(network.snapshots, \n",
    "             pyomo=False,\n",
    "             solver_name='gurobi')\n",
    "\n",
    "#I need to run this optimization multiple times--have a range of costs"
   ]
  },
  {
   "cell_type": "markdown",
   "metadata": {},
   "source": [
    "The message \"Optimization successful\" indicates that the optimizer has found an optimal solution. \n",
    "\n",
    "The total cost can be read from the network objetive."
   ]
  },
  {
   "cell_type": "code",
   "execution_count": 37,
   "metadata": {},
   "outputs": [
    {
     "name": "stdout",
     "output_type": "stream",
     "text": [
      "                              load\n",
      "snapshot                          \n",
      "2015-01-01 00:00:00+00:00  3210.98\n",
      "2015-01-01 01:00:00+00:00  3100.02\n",
      "2015-01-01 02:00:00+00:00  2980.39\n",
      "2015-01-01 03:00:00+00:00  2933.49\n",
      "2015-01-01 04:00:00+00:00  2941.54\n"
     ]
    }
   ],
   "source": [
    "#print(network.objective/1000000) #in 10^6 €\n",
    "print(network.loads_t.p.head()) # €/MWh"
   ]
  },
  {
   "cell_type": "markdown",
   "metadata": {},
   "source": [
    "The optimal capacity for every generator can be shown."
   ]
  },
  {
   "cell_type": "code",
   "execution_count": 38,
   "metadata": {},
   "outputs": [
    {
     "data": {
      "text/plain": [
       "onshorewind    5909.581818\n",
       "solar          3331.675882\n",
       "OCGT           5420.795855\n",
       "Name: p_nom_opt, dtype: float64"
      ]
     },
     "execution_count": 38,
     "metadata": {},
     "output_type": "execute_result"
    }
   ],
   "source": [
    "network.generators.p_nom_opt # in MW"
   ]
  },
  {
   "cell_type": "markdown",
   "metadata": {},
   "source": [
    "We can plot now the dispatch of every generator during the first week of the year and the electricity demand.\n",
    "We import the matplotlib package which is very useful to plot results.\n",
    "\n",
    "We can also plot the electricity mix."
   ]
  },
  {
   "cell_type": "code",
   "execution_count": 39,
   "metadata": {},
   "outputs": [
    {
     "data": {
      "image/png": "[encoded data removed]",
      "text/plain": [
       "<Figure size 432x288 with 1 Axes>"
      ]
     },
     "metadata": {
      "needs_background": "light"
     },
     "output_type": "display_data"
    }
   ],
   "source": [
    "import matplotlib.pyplot as plt\n",
    "\n",
    "plt.plot(network.loads_t.p['load'][0:96], color='black', label='demand')#these are the first 96 hours of data\n",
    "plt.plot(network.generators_t.p['onshorewind'][0:96], color='blue', label='onshore wind')\n",
    "plt.plot(network.generators_t.p['solar'][0:96], color='orange', label='solar')\n",
    "plt.plot(network.generators_t.p['OCGT'][0:96], color='brown', label='gas (OCGT)')\n",
    "plt.legend(fancybox=True, shadow=True, loc='best')#at one point, demand perfectly matches onshore wind. However, this is not all the wind that is being produced, right?\n",
    "plt.savefig('Images/Denmark/DenmarkCostJan.png')"
   ]
  },
  {
   "cell_type": "code",
   "execution_count": 40,
   "metadata": {},
   "outputs": [
    {
     "data": {
      "image/png": "[encoded data removed]",
      "text/plain": [
       "<Figure size 432x288 with 1 Axes>"
      ]
     },
     "metadata": {
      "needs_background": "light"
     },
     "output_type": "display_data"
    }
   ],
   "source": [
    "plt.plot(network.loads_t.p['load'][5000:5096], color='black', label='demand')#these are the middle 96 hours of data\n",
    "plt.plot(network.generators_t.p['onshorewind'][5000:5096], color='blue', label='onshore wind')\n",
    "plt.plot(network.generators_t.p['solar'][5000:5096], color='orange', label='solar')\n",
    "plt.plot(network.generators_t.p['OCGT'][5000:5096], color='brown', label='gas (OCGT)')\n",
    "plt.legend(fancybox=True, shadow=True, loc='best')\n",
    "plt.savefig('Images/Denmark/DenmarkCostJuly.png')"
   ]
  },
  {
   "cell_type": "code",
   "execution_count": 41,
   "metadata": {},
   "outputs": [
    {
     "name": "stdout",
     "output_type": "stream",
     "text": [
      "14013161.397275846 3160690.9440161134 15640086.78870804\n",
      "32813939.130000003\n"
     ]
    },
    {
     "data": {
      "text/plain": [
       "Text(0.5, 1.07, 'Electricity mix')"
      ]
     },
     "execution_count": 41,
     "metadata": {},
     "output_type": "execute_result"
    },
    {
     "data": {
      "image/png": "[encoded data removed]",
      "text/plain": [
       "<Figure size 432x288 with 1 Axes>"
      ]
     },
     "metadata": {},
     "output_type": "display_data"
    }
   ],
   "source": [
    "labels = ['onshore wind', \n",
    "          'solar', \n",
    "          'gas (OCGT)']\n",
    "sizes = [network.generators_t.p['onshorewind'].sum(),\n",
    "         network.generators_t.p['solar'].sum(),\n",
    "         network.generators_t.p['OCGT'].sum()]\n",
    "\n",
    "colors=['blue', 'orange', 'brown']\n",
    "\n",
    "print(network.generators_t.p['onshorewind'].sum(), network.generators_t.p['solar'].sum(),\n",
    "         network.generators_t.p['OCGT'].sum())\n",
    "\n",
    "print(sum(network.generators_t.p.sum()))\n",
    "\n",
    "plt.pie(sizes, \n",
    "        colors=colors, \n",
    "        labels=labels, \n",
    "        wedgeprops={'linewidth':0})\n",
    "plt.axis('equal')\n",
    "\n",
    "plt.title('Electricity mix', y=1.07)"
   ]
  },
  {
   "cell_type": "markdown",
   "metadata": {},
   "source": [
    "We can add a global CO2 constraint and solve again."
   ]
  },
  {
   "cell_type": "code",
   "execution_count": 42,
   "metadata": {},
   "outputs": [],
   "source": [
    "co2_limit=0 #tonCO2 #global as in system global\n",
    "network.add(\"GlobalConstraint\",\n",
    "            \"co2_limit\",\n",
    "            type=\"primary_energy\",\n",
    "            carrier_attribute=\"co2_emissions\",\n",
    "            sense=\"<=\",\n",
    "            constant=co2_limit)"
   ]
  },
  {
   "cell_type": "code",
   "execution_count": 43,
   "metadata": {},
   "outputs": [
    {
     "name": "stderr",
     "output_type": "stream",
     "text": [
      "INFO:pypsa.linopf:Prepare linear problem\n",
      "INFO:pypsa.linopf:Total preparation time: 2.19s\n",
      "INFO:pypsa.linopf:Solve linear problem using Gurobi solver\n"
     ]
    },
    {
     "name": "stdout",
     "output_type": "stream",
     "text": [
      "Read LP format model from file /var/folders/x3/vnc5_2m96vsfhyjnwg076wzr0000gn/T/pypsa-problem-v0wi3aqe.lp\n",
      "Reading time = 0.20 seconds\n",
      "obj: 61321 rows, 26284 columns, 109507 nonzeros\n",
      "Gurobi Optimizer version 9.1.2 build v9.1.2rc0 (mac64)\n",
      "Thread count: 4 physical cores, 8 logical processors, using up to 8 threads\n",
      "Optimize a model with 61321 rows, 26284 columns and 109507 nonzeros\n",
      "Model fingerprint: 0x22ce6e2d\n",
      "Coefficient statistics:\n",
      "  Matrix range     [1e-03, 1e+00]\n",
      "  Objective range  [1e+00, 9e+04]\n",
      "  Bounds range     [0e+00, 0e+00]\n",
      "  RHS range        [2e+03, 6e+03]\n",
      "\n",
      "Concurrent LP optimizer: dual simplex and barrier\n",
      "Showing barrier log only...\n",
      "\n",
      "Presolve removed 61320 rows and 26282 columns\n",
      "Presolve time: 0.09s\n",
      "Presolved: 1 rows, 2 columns, 2 nonzeros\n",
      "\n",
      "Ordering time: 0.00s\n",
      "\n",
      "Barrier statistics:\n",
      " AA' NZ     : 0.000e+00\n",
      " Factor NZ  : 1.000e+00\n",
      " Factor Ops : 1.000e+00 (less than 1 second per iteration)\n",
      " Threads    : 1\n",
      "\n",
      "                  Objective                Residual\n",
      "Iter       Primal          Dual         Primal    Dual     Compl     Time\n",
      "   0   1.91018809e+11  1.45498427e+11  0.00e+00 0.00e+00  1.79e+10     0s\n",
      "   1   1.60466003e+11  1.55264353e+11  0.00e+00 0.00e+00  1.31e+09     0s\n",
      "   2   1.60301899e+11  1.59901402e+11  0.00e+00 2.98e-08  1.00e+08     0s\n",
      "   3   1.59911204e+11  1.59902907e+11  0.00e+00 0.00e+00  2.07e+06     0s\n",
      "   4   1.59911177e+11  1.59911148e+11  0.00e+00 2.98e-08  7.39e+03     0s\n",
      "   5   1.59911156e+11  1.59911156e+11  0.00e+00 2.98e-08  8.15e-02     0s\n",
      "   6   1.59911156e+11  1.59911156e+11  0.00e+00 0.00e+00  9.82e-07     0s\n",
      "   7   1.59911156e+11  1.59911156e+11  0.00e+00 0.00e+00  1.18e-11     0s\n",
      "\n",
      "Barrier solved model in 7 iterations and 0.12 seconds\n",
      "Optimal objective 1.59911156e+11\n",
      "\n",
      "\n",
      "Solved with dual simplex\n",
      "Solved in 0 iterations and 0.13 seconds\n",
      "Optimal objective  1.599111558e+11\n"
     ]
    },
    {
     "name": "stderr",
     "output_type": "stream",
     "text": [
      "INFO:pypsa.linopf:Optimization successful. Objective value: 1.60e+11\n"
     ]
    },
    {
     "data": {
      "text/plain": [
       "('ok', 'optimal')"
      ]
     },
     "execution_count": 43,
     "metadata": {},
     "output_type": "execute_result"
    }
   ],
   "source": [
    "network.lopf(network.snapshots, \n",
    "             pyomo=False,\n",
    "             solver_name='gurobi')"
   ]
  },
  {
   "cell_type": "code",
   "execution_count": 44,
   "metadata": {},
   "outputs": [
    {
     "data": {
      "text/plain": [
       "onshorewind    1.694005e+06\n",
       "solar          3.881967e+02\n",
       "OCGT           0.000000e+00\n",
       "Name: p_nom_opt, dtype: float64"
      ]
     },
     "execution_count": 44,
     "metadata": {},
     "output_type": "execute_result"
    }
   ],
   "source": [
    "network.generators.p_nom_opt #in MW"
   ]
  },
  {
   "cell_type": "code",
   "execution_count": 45,
   "metadata": {},
   "outputs": [
    {
     "data": {
      "text/plain": [
       "<matplotlib.legend.Legend at 0x7fa91db864c0>"
      ]
     },
     "execution_count": 45,
     "metadata": {},
     "output_type": "execute_result"
    },
    {
     "data": {
      "image/png": "[encoded data removed]",
      "text/plain": [
       "<Figure size 432x288 with 1 Axes>"
      ]
     },
     "metadata": {
      "needs_background": "light"
     },
     "output_type": "display_data"
    }
   ],
   "source": [
    "import matplotlib.pyplot as plt\n",
    "\n",
    "plt.plot(network.loads_t.p['load'][0:96], color='black', label='demand')#why does the demand curve not go all the way? why is the gas curve so weird?\n",
    "plt.plot(network.generators_t.p['onshorewind'][0:96], color='blue', label='onshore wind')\n",
    "plt.plot(network.generators_t.p['solar'][0:96], color='orange', label='solar')\n",
    "plt.plot(network.generators_t.p['OCGT'][0:96], color='brown', label='gas (OCGT)')\n",
    "plt.legend(fancybox=True, shadow=True, loc='best')"
   ]
  },
  {
   "cell_type": "code",
   "execution_count": 46,
   "metadata": {},
   "outputs": [
    {
     "data": {
      "text/plain": [
       "Text(0.5, 1.07, 'Electricity mix')"
      ]
     },
     "execution_count": 46,
     "metadata": {},
     "output_type": "execute_result"
    },
    {
     "data": {
      "image/png": "[encoded data removed]",
      "text/plain": [
       "<Figure size 432x288 with 1 Axes>"
      ]
     },
     "metadata": {},
     "output_type": "display_data"
    }
   ],
   "source": [
    "labels = ['onshore wind', 'solar', 'gas (OCGT)' ]\n",
    "sizes = [network.generators_t.p['onshorewind'].sum(),\n",
    "         network.generators_t.p['solar'].sum(),\n",
    "         network.generators_t.p['OCGT'].sum()]\n",
    "\n",
    "\n",
    "colors = ['blue', 'orange', 'brown']\n",
    "\n",
    "plt.pie(sizes, \n",
    "        colors=colors, \n",
    "        labels=labels, \n",
    "        wedgeprops={'linewidth':0})\n",
    "plt.axis('equal')\n",
    "\n",
    "plt.title('Electricity mix', y=1.07)"
   ]
  },
  {
   "cell_type": "markdown",
   "metadata": {},
   "source": [
    "## PROJECT INSTRUCTIONS\n",
    "\n",
    "Based on the previous example, you are asked to carry out the following tasks:\n",
    "\n",
    "A. Choose a different country/region and calculate the optimal capacities for renewable and non-renewable generators. You can add as many technologies as you want. Remember to provide a reference for the cost assumptions. Plot the dispatch time series for a week in summer and winter. Plot the annual electricity mix. Use the duration curves or the capacity factor to investigate the contribution from different technologies. \n",
    "\n",
    "B. Investigate how sensitive is the optimum capacity mix to the global CO2 constraint. E.g., plot the generation mix as a function of the CO2 constraint that you impose. Search for the CO2 emissions in your country (today or in 1990) and refer the emissions allowance to that historical data. \n",
    "\n",
    "C. Investigate how sensitive are your results to the interannual variability of solar and wind generation. Plot the average capacity and variability obtained for every generator using different weather years. \n",
    "\n",
    "D. Add some storage technology/ies and investigate how they behave and what is their impact on the optimal system configuration. \n",
    "\n",
    "E. Discuss what strategies is your system using to balance the renewable generation at different time scales (intraday, seasonal, etc.) \n",
    "\n",
    "F. Select on target for decarbonization (i.e., one CO2 allowance limit). What is the CO2 price required to achieve that decarbonization level? Search for information on the existing CO2 tax in your country (if any) and discuss your result. \n",
    "\n",
    "G. Connect your country with, at least, two neighbour countries. You can assume that the capacities in the neighbours are fixed or cooptimize the whole system. You can also include fixed interconnection capacities or cooptimize them with the generators capacities. Discuss your results.\n",
    "\n",
    "H. Connect the electricity sector with another sector such as heating or transport, and cooptimize the two sectors. Discuss your results.\n",
    "\n",
    "I. Finally, select one topic that is under discussion in your region. Design and implement some experiment to obtain relevant information regarding that topic. E.g. \n",
    "\n",
    "[-] What are the consequences if Denmark decides not to install more onshore wind? \n",
    "\n",
    "[-] Would it be more expensive if France decides to close its nuclear power plants? \n",
    "\n",
    "[-] What will be the main impacts of the Viking link?\n",
    "\n",
    "Write a short report (maximum 10 pages) including your main findings."
   ]
  },
  {
   "cell_type": "code",
   "execution_count": 47,
   "metadata": {},
   "outputs": [],
   "source": [
    "###What is a duration curve?\n"
   ]
  },
  {
   "cell_type": "markdown",
   "metadata": {},
   "source": [
    "\n",
    "\n",
    "\n",
    "_TIP 1: You can add a link with the following code_\n",
    "\n",
    "The efficiency will be 1 if you are connecting two countries and different from one if, for example, you are connecting the electricity bus to the heating bus using a heat pump.\n",
    "Setting p_min_pu=-1 makes the link reversible.\n"
   ]
  },
  {
   "cell_type": "code",
   "execution_count": 48,
   "metadata": {},
   "outputs": [
    {
     "name": "stderr",
     "output_type": "stream",
     "text": [
      "WARNING:pypsa.components:The bus name `electricity bus country a` given for bus0 of Link `country a - country b` does not appear in network.buses\n",
      "WARNING:pypsa.components:The bus name `electricity bus country b` given for bus1 of Link `country a - country b` does not appear in network.buses\n"
     ]
    }
   ],
   "source": [
    "network.add(\"Link\",\n",
    "             'country a - country b',\n",
    "             bus0=\"electricity bus country a\",\n",
    "             bus1=\"electricity bus country b\",\n",
    "             p_nom_extendable=True, # capacity is optimised\n",
    "             p_min_pu=-1,\n",
    "             length=600, # length (in km) between country a and country b\n",
    "             capital_cost=400*600) # capital cost * length "
   ]
  },
  {
   "cell_type": "markdown",
   "metadata": {},
   "source": [
    "\n",
    "_TIP 2: You can check the KKT multiplier associated with the constraint with the following code_\n"
   ]
  },
  {
   "cell_type": "code",
   "execution_count": 49,
   "metadata": {},
   "outputs": [
    {
     "name": "stdout",
     "output_type": "stream",
     "text": [
      "co2_limit    0.0\n",
      "Name: constant, dtype: float64\n",
      "co2_limit    2.466852e+08\n",
      "Name: mu, dtype: float64\n"
     ]
    }
   ],
   "source": [
    "print(network.global_constraints.constant) #CO2 limit (constant in the constraint)\n",
    "\n",
    "print(network.global_constraints.mu) #CO2 price (Lagrance multiplier in the constraint)"
   ]
  },
  {
   "cell_type": "markdown",
   "metadata": {},
   "source": [
    "TIP 3: You can add a H2 store connected to the electricity bus via an electrolyzer and a fuel cell with the following code. "
   ]
  },
  {
   "cell_type": "code",
   "execution_count": 50,
   "metadata": {},
   "outputs": [],
   "source": [
    "#Create a new carrier\n",
    "network.add(\"Carrier\",\n",
    "      \"H2\")\n",
    "\n",
    "#Create a new bus\n",
    "network.add(\"Bus\",\n",
    "      \"H2\",\n",
    "      carrier = \"H2\")\n",
    "\n",
    "#Connect the store to the bus\n",
    "network.add(\"Store\",\n",
    "      \"H2 Tank\",\n",
    "      bus = \"H2\",\n",
    "      e_nom_extendable = True,\n",
    "      e_cyclic = True,\n",
    "      capital_cost = annuity(25, 0.07)*57000*(1+0.011))\n",
    "\n",
    "#Add the link \"H2 Electrolysis\" that transport energy from the electricity bus (bus0) to the H2 bus (bus1)\n",
    "#with 80% efficiency\n",
    "network.add(\"Link\",\n",
    "      \"H2 Electrolysis\", \n",
    "      bus0 = \"electricity bus\",\n",
    "      bus1 = \"H2\",     \n",
    "      p_nom_extendable = True,\n",
    "      efficiency = 0.8,\n",
    "      capital_cost = annuity(25, 0.07)*600000*(1+0.05))\n",
    "\n",
    "#Add the link \"H2 Fuel Cell\" that transports energy from the H2 bus (bus0) to the electricity bus (bus1)\n",
    "#with 58% efficiency\n",
    "network.add(\"Link\",\n",
    "      \"H2 Fuel Cell\", \n",
    "      bus0 = \"H2\",\n",
    "      bus1 = \"electricity bus\",     \n",
    "      p_nom_extendable = True,\n",
    "      efficiency = 0.58,\n",
    "      capital_cost = annuity(10, 0.07)*1300000*(1+0.05)) \n"
   ]
  },
  {
   "cell_type": "code",
   "execution_count": null,
   "metadata": {},
   "outputs": [],
   "source": []
  }
 ],
 "metadata": {
  "kernelspec": {
   "display_name": "Python 3 (ipykernel)",
   "language": "python",
   "name": "python3"
  },
  "language_info": {
   "codemirror_mode": {
    "name": "ipython",
    "version": 3
   },
   "file_extension": ".py",
   "mimetype": "text/x-python",
   "name": "python",
   "nbconvert_exporter": "python",
   "pygments_lexer": "ipython3",
   "version": "3.8.11"
  }
 },
 "nbformat": 4,
 "nbformat_minor": 1
}
