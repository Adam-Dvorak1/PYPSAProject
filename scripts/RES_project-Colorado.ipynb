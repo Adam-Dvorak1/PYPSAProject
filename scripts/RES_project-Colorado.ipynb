{
 "cells": [
  {
   "cell_type": "markdown",
   "metadata": {},
   "source": [
    "###### Aarhus University - Fall 2021 - Renewable Energy Systems (RES) project \n",
    "\n",
    "This notebook includes the steps to optimize the capacity and dispatch of generators in the power system of one country.\n",
    "Make sure that you understand every step in this notebook. For the project of the course Renewable Energy Systems (RES) you need to deliver a report including the sections described at the end of this notebook."
   ]
  },
  {
   "cell_type": "code",
   "execution_count": 50,
   "metadata": {},
   "outputs": [],
   "source": [
    "import pypsa"
   ]
  },
  {
   "cell_type": "markdown",
   "metadata": {},
   "source": [
    "Pandas package is very useful to work with imported data, time series, matrices ...\n",
    "\n",
    "You can find a 10-minutes guide to pandas in the following link\n",
    "https://pandas.pydata.org/pandas-docs/stable/user_guide/10min.html"
   ]
  },
  {
   "cell_type": "code",
   "execution_count": 51,
   "metadata": {},
   "outputs": [],
   "source": [
    "import pandas as pd"
   ]
  },
  {
   "cell_type": "markdown",
   "metadata": {},
   "source": [
    "We start by creating the network. In this example, the country is modelled as a single node, so the network will only include one bus.\n",
    "\n",
    "We select the year 2015 and set the hours in that year as snapshots.\n",
    "\n",
    "We select a country, in this case, Spain (ESP), and add one node (electricity bus) to the network."
   ]
  },
  {
   "cell_type": "code",
   "execution_count": 52,
   "metadata": {},
   "outputs": [
    {
     "data": {
      "text/plain": [
       "DatetimeIndex(['2011-01-01 00:00:00', '2011-01-01 01:00:00',\n",
       "               '2011-01-01 02:00:00', '2011-01-01 03:00:00',\n",
       "               '2011-01-01 04:00:00', '2011-01-01 05:00:00',\n",
       "               '2011-01-01 06:00:00', '2011-01-01 07:00:00',\n",
       "               '2011-01-01 08:00:00', '2011-01-01 09:00:00',\n",
       "               ...\n",
       "               '2011-12-31 14:00:00', '2011-12-31 15:00:00',\n",
       "               '2011-12-31 16:00:00', '2011-12-31 17:00:00',\n",
       "               '2011-12-31 18:00:00', '2011-12-31 19:00:00',\n",
       "               '2011-12-31 20:00:00', '2011-12-31 21:00:00',\n",
       "               '2011-12-31 22:00:00', '2011-12-31 23:00:00'],\n",
       "              dtype='datetime64[ns]', name='snapshot', length=8760, freq='H')"
      ]
     },
     "execution_count": 52,
     "metadata": {},
     "output_type": "execute_result"
    }
   ],
   "source": [
    "network = pypsa.Network()\n",
    "hours_in_2011 = pd.date_range('2011-01-01T00:00:00','2011-12-31T23:00:00', freq='H') #I changed the date rate from Z\n",
    "network.set_snapshots(hours_in_2011)\n",
    "\n",
    "network.add(\"Bus\",\"electricity bus\")\n",
    "\n",
    "network.snapshots"
   ]
  },
  {
   "cell_type": "markdown",
   "metadata": {},
   "source": [
    "The demand is represented by the historical electricity demand in 2015 with hourly resolution. \n",
    "\n",
    "The file with historical hourly electricity demand for every European country is available in the data folder.\n",
    "\n",
    "The electricity demand time series were obtained from ENTSOE through the very convenient compilation carried out by the Open Power System Data (OPSD). https://data.open-power-system-data.org/time_series/"
   ]
  },
  {
   "cell_type": "code",
   "execution_count": 53,
   "metadata": {},
   "outputs": [
    {
     "name": "stdout",
     "output_type": "stream",
     "text": [
      "Column 1\n",
      "2011-01-01 00:00:00    8329.4\n",
      "2011-01-01 01:00:00    8249.3\n",
      "2011-01-01 02:00:00    7971.8\n",
      "2011-01-01 03:00:00    7733.7\n",
      "2011-01-01 04:00:00    7460.6\n",
      "Name: demand_mwh, dtype: float64\n"
     ]
    }
   ],
   "source": [
    "# load electricity demand data\n",
    "df_elec = pd.read_csv('data_extra/ColoradoTimeSeries.csv', index_col=0) # in MWh\n",
    "df_elec.index = pd.to_datetime(df_elec.index) #change index to datatime\n",
    "print(df_elec['demand_mwh'].head())"
   ]
  },
  {
   "cell_type": "code",
   "execution_count": 54,
   "metadata": {},
   "outputs": [],
   "source": [
    "# add load to the bus\n",
    "network.add(\"Load\",\n",
    "            \"load\", \n",
    "            bus=\"electricity bus\", \n",
    "            p_set=df_elec['demand_mwh'])"
   ]
  },
  {
   "cell_type": "markdown",
   "metadata": {},
   "source": [
    "Print the load time series to check that it has been properly added (you should see numbers and not 'NaN')"
   ]
  },
  {
   "cell_type": "code",
   "execution_count": 55,
   "metadata": {},
   "outputs": [
    {
     "data": {
      "text/html": [
       "<div>\n",
       "<style scoped>\n",
       "    .dataframe tbody tr th:only-of-type {\n",
       "        vertical-align: middle;\n",
       "    }\n",
       "\n",
       "    .dataframe tbody tr th {\n",
       "        vertical-align: top;\n",
       "    }\n",
       "\n",
       "    .dataframe thead th {\n",
       "        text-align: right;\n",
       "    }\n",
       "</style>\n",
       "<table border=\"1\" class=\"dataframe\">\n",
       "  <thead>\n",
       "    <tr style=\"text-align: right;\">\n",
       "      <th></th>\n",
       "      <th>load</th>\n",
       "    </tr>\n",
       "    <tr>\n",
       "      <th>snapshot</th>\n",
       "      <th></th>\n",
       "    </tr>\n",
       "  </thead>\n",
       "  <tbody>\n",
       "    <tr>\n",
       "      <th>2011-01-01 00:00:00</th>\n",
       "      <td>8329.4</td>\n",
       "    </tr>\n",
       "    <tr>\n",
       "      <th>2011-01-01 01:00:00</th>\n",
       "      <td>8249.3</td>\n",
       "    </tr>\n",
       "    <tr>\n",
       "      <th>2011-01-01 02:00:00</th>\n",
       "      <td>7971.8</td>\n",
       "    </tr>\n",
       "    <tr>\n",
       "      <th>2011-01-01 03:00:00</th>\n",
       "      <td>7733.7</td>\n",
       "    </tr>\n",
       "    <tr>\n",
       "      <th>2011-01-01 04:00:00</th>\n",
       "      <td>7460.6</td>\n",
       "    </tr>\n",
       "    <tr>\n",
       "      <th>...</th>\n",
       "      <td>...</td>\n",
       "    </tr>\n",
       "    <tr>\n",
       "      <th>2011-12-31 19:00:00</th>\n",
       "      <td>7254.1</td>\n",
       "    </tr>\n",
       "    <tr>\n",
       "      <th>2011-12-31 20:00:00</th>\n",
       "      <td>7190.2</td>\n",
       "    </tr>\n",
       "    <tr>\n",
       "      <th>2011-12-31 21:00:00</th>\n",
       "      <td>7121.2</td>\n",
       "    </tr>\n",
       "    <tr>\n",
       "      <th>2011-12-31 22:00:00</th>\n",
       "      <td>7245.0</td>\n",
       "    </tr>\n",
       "    <tr>\n",
       "      <th>2011-12-31 23:00:00</th>\n",
       "      <td>7663.4</td>\n",
       "    </tr>\n",
       "  </tbody>\n",
       "</table>\n",
       "<p>8760 rows × 1 columns</p>\n",
       "</div>"
      ],
      "text/plain": [
       "                       load\n",
       "snapshot                   \n",
       "2011-01-01 00:00:00  8329.4\n",
       "2011-01-01 01:00:00  8249.3\n",
       "2011-01-01 02:00:00  7971.8\n",
       "2011-01-01 03:00:00  7733.7\n",
       "2011-01-01 04:00:00  7460.6\n",
       "...                     ...\n",
       "2011-12-31 19:00:00  7254.1\n",
       "2011-12-31 20:00:00  7190.2\n",
       "2011-12-31 21:00:00  7121.2\n",
       "2011-12-31 22:00:00  7245.0\n",
       "2011-12-31 23:00:00  7663.4\n",
       "\n",
       "[8760 rows x 1 columns]"
      ]
     },
     "execution_count": 55,
     "metadata": {},
     "output_type": "execute_result"
    }
   ],
   "source": [
    "network.loads_t.p_set"
   ]
  },
  {
   "cell_type": "markdown",
   "metadata": {},
   "source": [
    "In the optimization, we will minimize the annualized system costs.\n",
    "\n",
    "We will need to annualize the cost of every generator, we build a function to do it."
   ]
  },
  {
   "cell_type": "code",
   "execution_count": 56,
   "metadata": {},
   "outputs": [],
   "source": [
    "def annuity(n,r):\n",
    "    \"\"\"Calculate the annuity factor for an asset with lifetime n years and\n",
    "    discount rate of r, e.g. annuity(20,0.05)*20 = 1.6\"\"\"\n",
    "\n",
    "    if r > 0:\n",
    "        return r/(1. - 1./(1.+r)**n)\n",
    "    else:\n",
    "        return 1/n\n"
   ]
  },
  {
   "cell_type": "markdown",
   "metadata": {},
   "source": [
    "We include solar PV and onshore wind generators. \n",
    "\n",
    "The capacity factors representing the availability of those generators for every European country can be downloaded from the following repositories (select 'optimal' for PV and onshore for wind). \n",
    "\n",
    "https://zenodo.org/record/3253876#.XSiVOEdS8l0\n",
    "\n",
    "https://zenodo.org/record/2613651#.XSiVOkdS8l0\n",
    "\n",
    "We include also Open Cycle Gas Turbine (OCGT) generators\n",
    "\n",
    "The cost assumed for the generators are the same as in the paper https://doi.org/10.1016/j.enconman.2019.111977 (open version:  https://arxiv.org/pdf/1906.06936.pdf)"
   ]
  },
  {
   "cell_type": "code",
   "execution_count": 57,
   "metadata": {},
   "outputs": [],
   "source": [
    "# add the different carriers, only gas emits CO2\n",
    "network.add(\"Carrier\", \"gas\", co2_emissions=0.19) # in t_CO2/MWh_th\n",
    "network.add(\"Carrier\", \"onshorewind\")\n",
    "network.add(\"Carrier\", \"solar\")\n",
    "\n",
    "# add onshore wind generator\n",
    "df_onshorewind = pd.read_csv('data_extra/ColoradoTimeSeries.csv', index_col=0)\n",
    "df_onshorewind.index = pd.to_datetime(df_onshorewind.index)\n",
    "CF_wind = df_onshorewind['onwind'][[hour.strftime(\"%Y-%m-%dT%H:%M:%S\") for hour in network.snapshots]]\n",
    "capital_cost_onshorewind = annuity(27,0.07)*1118000*(1+0.012) # in €/MW #Where are these numbers coming from?\n",
    "#More specifically, where does the 0.07 and the 1000 multiplying the 910000 come from?\n",
    "network.add(\"Generator\",\n",
    "            \"onshorewind\",\n",
    "            bus=\"electricity bus\",\n",
    "            p_nom_extendable=True,\n",
    "            carrier=\"onshorewind\",\n",
    "            #p_nom_max=1000, # maximum capacity can be limited due to environmental constraints\n",
    "            capital_cost = capital_cost_onshorewind,\n",
    "            marginal_cost = 0,\n",
    "            p_max_pu = CF_wind) #Does this add?\n",
    "#is p_max_pu the maximum amount wind can contribute?\n",
    "\n",
    "# add solar PV generator\n",
    "df_solar = pd.read_csv('data_extra/ColoradoTimeSeries.csv', index_col=0)\n",
    "df_solar.index = pd.to_datetime(df_solar.index)\n",
    "CF_solar = df_solar['solar'][[hour.strftime(\"%Y-%m-%dT%H:%M:%S\") for hour in network.snapshots]]\n",
    "#capital_cost_solar = annuity(25,0.07)*425000*(1+0.03) # in €/MW\n",
    "capital_cost_solar = annuity(35,0.07)*529000*(1+0.016)\n",
    "network.add(\"Generator\",\n",
    "            \"solar\",\n",
    "            bus=\"electricity bus\",\n",
    "            p_nom_extendable=True,\n",
    "            carrier=\"solar\",\n",
    "            #p_nom_max=1000, # maximum capacity can be limited due to environmental constraints\n",
    "            capital_cost = capital_cost_solar,\n",
    "            marginal_cost = 0,\n",
    "            p_max_pu = CF_solar)\n",
    "\n",
    "# add OCGT (Open Cycle Gas Turbine) generator\n",
    "capital_cost_OCGT = annuity(25,0.07)*453000*(1+0.018) # in €/MW\n",
    "fuel_cost = 21.6 # in €/MWh_th\n",
    "efficiency = 0.39\n",
    "marginal_cost_OCGT = fuel_cost/efficiency # in €/MWh_el\n",
    "network.add(\"Generator\",\n",
    "            \"OCGT\",\n",
    "            bus=\"electricity bus\",\n",
    "            p_nom_extendable=True,\n",
    "            carrier=\"gas\",\n",
    "            #p_nom_max=1000,\n",
    "            capital_cost = capital_cost_OCGT,\n",
    "            marginal_cost = marginal_cost_OCGT)"
   ]
  },
  {
   "cell_type": "code",
   "execution_count": null,
   "metadata": {},
   "outputs": [],
   "source": []
  },
  {
   "cell_type": "markdown",
   "metadata": {},
   "source": [
    "Print the generator Capacity factor time series to check that it has been properly added (you should see numbers and not 'NaN')"
   ]
  },
  {
   "cell_type": "code",
   "execution_count": 58,
   "metadata": {},
   "outputs": [
    {
     "data": {
      "text/html": [
       "<div>\n",
       "<style scoped>\n",
       "    .dataframe tbody tr th:only-of-type {\n",
       "        vertical-align: middle;\n",
       "    }\n",
       "\n",
       "    .dataframe tbody tr th {\n",
       "        vertical-align: top;\n",
       "    }\n",
       "\n",
       "    .dataframe thead th {\n",
       "        text-align: right;\n",
       "    }\n",
       "</style>\n",
       "<table border=\"1\" class=\"dataframe\">\n",
       "  <thead>\n",
       "    <tr style=\"text-align: right;\">\n",
       "      <th></th>\n",
       "      <th>onshorewind</th>\n",
       "      <th>solar</th>\n",
       "    </tr>\n",
       "    <tr>\n",
       "      <th>snapshot</th>\n",
       "      <th></th>\n",
       "      <th></th>\n",
       "    </tr>\n",
       "  </thead>\n",
       "  <tbody>\n",
       "    <tr>\n",
       "      <th>2011-01-01 00:00:00</th>\n",
       "      <td>0.460</td>\n",
       "      <td>0.000</td>\n",
       "    </tr>\n",
       "    <tr>\n",
       "      <th>2011-01-01 01:00:00</th>\n",
       "      <td>0.430</td>\n",
       "      <td>0.000</td>\n",
       "    </tr>\n",
       "    <tr>\n",
       "      <th>2011-01-01 02:00:00</th>\n",
       "      <td>0.406</td>\n",
       "      <td>0.000</td>\n",
       "    </tr>\n",
       "    <tr>\n",
       "      <th>2011-01-01 03:00:00</th>\n",
       "      <td>0.380</td>\n",
       "      <td>0.000</td>\n",
       "    </tr>\n",
       "    <tr>\n",
       "      <th>2011-01-01 04:00:00</th>\n",
       "      <td>0.357</td>\n",
       "      <td>0.000</td>\n",
       "    </tr>\n",
       "    <tr>\n",
       "      <th>...</th>\n",
       "      <td>...</td>\n",
       "      <td>...</td>\n",
       "    </tr>\n",
       "    <tr>\n",
       "      <th>2011-12-31 19:00:00</th>\n",
       "      <td>0.947</td>\n",
       "      <td>0.645</td>\n",
       "    </tr>\n",
       "    <tr>\n",
       "      <th>2011-12-31 20:00:00</th>\n",
       "      <td>0.939</td>\n",
       "      <td>0.655</td>\n",
       "    </tr>\n",
       "    <tr>\n",
       "      <th>2011-12-31 21:00:00</th>\n",
       "      <td>0.930</td>\n",
       "      <td>0.640</td>\n",
       "    </tr>\n",
       "    <tr>\n",
       "      <th>2011-12-31 22:00:00</th>\n",
       "      <td>0.904</td>\n",
       "      <td>0.570</td>\n",
       "    </tr>\n",
       "    <tr>\n",
       "      <th>2011-12-31 23:00:00</th>\n",
       "      <td>0.869</td>\n",
       "      <td>0.457</td>\n",
       "    </tr>\n",
       "  </tbody>\n",
       "</table>\n",
       "<p>8760 rows × 2 columns</p>\n",
       "</div>"
      ],
      "text/plain": [
       "                     onshorewind  solar\n",
       "snapshot                               \n",
       "2011-01-01 00:00:00        0.460  0.000\n",
       "2011-01-01 01:00:00        0.430  0.000\n",
       "2011-01-01 02:00:00        0.406  0.000\n",
       "2011-01-01 03:00:00        0.380  0.000\n",
       "2011-01-01 04:00:00        0.357  0.000\n",
       "...                          ...    ...\n",
       "2011-12-31 19:00:00        0.947  0.645\n",
       "2011-12-31 20:00:00        0.939  0.655\n",
       "2011-12-31 21:00:00        0.930  0.640\n",
       "2011-12-31 22:00:00        0.904  0.570\n",
       "2011-12-31 23:00:00        0.869  0.457\n",
       "\n",
       "[8760 rows x 2 columns]"
      ]
     },
     "execution_count": 58,
     "metadata": {},
     "output_type": "execute_result"
    }
   ],
   "source": [
    "network.generators_t.p_max_pu"
   ]
  },
  {
   "cell_type": "markdown",
   "metadata": {},
   "source": [
    "We solve the linear optimal power flow (lopf) using Gurobi as solver.\n",
    "\n",
    "In this case, we are optimising the installed capacity and dispatch of every generator to minimize the total system cost."
   ]
  },
  {
   "cell_type": "code",
   "execution_count": 59,
   "metadata": {},
   "outputs": [
    {
     "name": "stderr",
     "output_type": "stream",
     "text": [
      "INFO:pypsa.linopf:Prepare linear problem\n",
      "INFO:pypsa.linopf:Total preparation time: 1.71s\n",
      "INFO:pypsa.linopf:Solve linear problem using Gurobi solver\n"
     ]
    },
    {
     "name": "stdout",
     "output_type": "stream",
     "text": [
      "Read LP format model from file /var/folders/x3/vnc5_2m96vsfhyjnwg076wzr0000gn/T/pypsa-problem-m3k5waat.lp\n",
      "Reading time = 0.20 seconds\n",
      "obj: 61320 rows, 26284 columns, 100693 nonzeros\n",
      "Gurobi Optimizer version 9.1.2 build v9.1.2rc0 (mac64)\n",
      "Thread count: 4 physical cores, 8 logical processors, using up to 8 threads\n",
      "Optimize a model with 61320 rows, 26284 columns and 100693 nonzeros\n",
      "Model fingerprint: 0x9651f429\n",
      "Coefficient statistics:\n",
      "  Matrix range     [1e-03, 1e+00]\n",
      "  Objective range  [1e+00, 9e+04]\n",
      "  Bounds range     [0e+00, 0e+00]\n",
      "  RHS range        [5e+03, 1e+04]\n",
      "\n",
      "Concurrent LP optimizer: dual simplex and barrier\n",
      "Showing barrier log only...\n",
      "\n",
      "Presolve removed 35134 rows and 8855 columns\n",
      "Presolve time: 0.20s\n",
      "Presolved: 26186 rows, 17429 columns, 56705 nonzeros\n",
      "\n",
      "Ordering time: 0.01s\n",
      "\n",
      "Barrier statistics:\n",
      " Dense cols : 3\n",
      " AA' NZ     : 3.928e+04\n",
      " Factor NZ  : 1.263e+05 (roughly 20 MBytes of memory)\n",
      " Factor Ops : 6.566e+05 (less than 1 second per iteration)\n",
      " Threads    : 1\n",
      "\n",
      "                  Objective                Residual\n",
      "Iter       Primal          Dual         Primal    Dual     Compl     Time\n",
      "   0  -1.11452815e+10 -1.63880020e+10  2.64e+04 1.06e+02  4.43e+07     0s\n",
      "   1   5.32390422e+09 -6.27120788e+10  2.07e+03 1.64e+03  9.21e+06     0s\n",
      "   2   7.11468208e+09 -9.31065509e+09  4.55e+01 3.34e+01  5.17e+05     0s\n",
      "   3   4.18069273e+09  1.51625777e+09  8.15e+00 1.55e+00  6.67e+04     0s\n",
      "   4   3.64767550e+09  2.37216796e+09  5.06e+00 2.54e-01  3.02e+04     0s\n",
      "   5   3.63790760e+09  2.43607753e+09  4.92e+00 2.24e-01  2.84e+04     0s\n",
      "   6   3.39534139e+09  2.65863577e+09  2.89e+00 7.86e-02  1.74e+04     0s\n",
      "   7   3.23721162e+09  2.85226721e+09  1.53e+00 2.99e-11  9.05e+03     0s\n",
      "   8   3.12780102e+09  2.97057632e+09  5.48e-01 2.90e-12  3.68e+03     1s\n",
      "   9   3.07853991e+09  3.01933433e+09  1.63e-01 3.69e-12  1.39e+03     1s\n",
      "  10   3.06383370e+09  3.04624973e+09  5.23e-02 4.32e-12  4.11e+02     1s\n",
      "  11   3.05966774e+09  3.05213502e+09  2.22e-02 1.42e-12  1.76e+02     1s\n",
      "  12   3.05787610e+09  3.05442914e+09  9.20e-03 9.66e-13  8.06e+01     1s\n",
      "  13   3.05715806e+09  3.05524269e+09  4.17e-03 8.53e-13  4.48e+01     1s\n",
      "  14   3.05693225e+09  3.05578801e+09  2.63e-03 7.96e-12  2.68e+01     1s\n",
      "  15   3.05671158e+09  3.05613835e+09  1.13e-03 8.13e-12  1.34e+01     1s\n",
      "  16   3.05654637e+09  3.05645096e+09  4.52e-05 1.14e-13  2.23e+00     1s\n",
      "  17   3.05654003e+09  3.05652048e+09  5.76e-06 1.60e-11  4.55e-01     1s\n",
      "  18   3.05653868e+09  3.05653808e+09  1.36e-06 6.28e-09  1.40e-02     1s\n",
      "  19   3.05653828e+09  3.05653828e+09  1.65e-07 2.16e-09  1.71e-07     1s\n",
      "  20   3.05653828e+09  3.05653828e+09  6.73e-11 8.88e-10  1.71e-13     1s\n",
      "\n",
      "Barrier solved model in 20 iterations and 0.77 seconds\n",
      "Optimal objective 3.05653828e+09\n",
      "\n",
      "Crossover log...\n",
      "\n",
      "       3 DPushes remaining with DInf 0.0000000e+00                 1s\n",
      "       0 DPushes remaining with DInf 0.0000000e+00                 1s\n",
      "\n",
      "    1817 PPushes remaining with PInf 0.0000000e+00                 1s\n",
      "       0 PPushes remaining with PInf 0.0000000e+00                 1s\n",
      "\n",
      "  Push phase complete: Pinf 0.0000000e+00, Dinf 3.0957104e-10      1s\n",
      "\n",
      "Iteration    Objective       Primal Inf.    Dual Inf.      Time\n",
      "    1823    3.0565383e+09   0.000000e+00   0.000000e+00      1s\n",
      "\n",
      "Solved with barrier\n",
      "Solved in 1823 iterations and 0.87 seconds\n",
      "Optimal objective  3.056538280e+09\n"
     ]
    },
    {
     "name": "stderr",
     "output_type": "stream",
     "text": [
      "INFO:pypsa.linopf:Optimization successful. Objective value: 3.06e+09\n"
     ]
    },
    {
     "data": {
      "text/plain": [
       "('ok', 'optimal')"
      ]
     },
     "execution_count": 59,
     "metadata": {},
     "output_type": "execute_result"
    }
   ],
   "source": [
    "network.lopf(network.snapshots, \n",
    "             pyomo=False,\n",
    "             solver_name='gurobi')"
   ]
  },
  {
   "cell_type": "markdown",
   "metadata": {},
   "source": [
    "The message \"Optimization successful\" indicates that the optimizer has found an optimal solution. \n",
    "\n",
    "The total cost can be read from the network objetive."
   ]
  },
  {
   "cell_type": "code",
   "execution_count": 60,
   "metadata": {},
   "outputs": [
    {
     "name": "stdout",
     "output_type": "stream",
     "text": [
      "load    47.659502\n",
      "dtype: float64\n"
     ]
    }
   ],
   "source": [
    "#print(network.objective/1000000) #in 10^6 €\n",
    "print(network.objective/network.loads_t.p.sum()) # €/MWh"
   ]
  },
  {
   "cell_type": "markdown",
   "metadata": {},
   "source": [
    "The optimal capacity for every generator can be shown."
   ]
  },
  {
   "cell_type": "code",
   "execution_count": 61,
   "metadata": {},
   "outputs": [
    {
     "data": {
      "text/plain": [
       "onshorewind     9672.343324\n",
       "solar          11088.343430\n",
       "OCGT            9742.276567\n",
       "Name: p_nom_opt, dtype: float64"
      ]
     },
     "execution_count": 61,
     "metadata": {},
     "output_type": "execute_result"
    }
   ],
   "source": [
    "network.generators.p_nom_opt # in MW"
   ]
  },
  {
   "cell_type": "markdown",
   "metadata": {},
   "source": [
    "We can plot now the dispatch of every generator during the first week of the year and the electricity demand.\n",
    "We import the matplotlib package which is very useful to plot results.\n",
    "\n",
    "We can also plot the electricity mix."
   ]
  },
  {
   "cell_type": "code",
   "execution_count": 62,
   "metadata": {},
   "outputs": [
    {
     "data": {
      "image/png": "[encoded data removed]",
      "text/plain": [
       "<Figure size 432x288 with 1 Axes>"
      ]
     },
     "metadata": {
      "needs_background": "light"
     },
     "output_type": "display_data"
    }
   ],
   "source": [
    "import matplotlib.pyplot as plt\n",
    "\n",
    "plt.plot(network.loads_t.p['load'][0:8760], color='black', label='demand')#these are the first 96 hours of data\n",
    "plt.plot(network.generators_t.p['onshorewind'][0:8760], color='blue', label='onshore wind')\n",
    "plt.plot(network.generators_t.p['solar'][0:8760], color='orange', label='solar')\n",
    "plt.plot(network.generators_t.p['OCGT'][0:8760], color='brown', label='gas (OCGT)')\n",
    "plt.legend(fancybox=True, shadow=True, loc='best')#at one point, demand perfectly matches onshore wind. However, this is not all the wind that is being produced, right?\n",
    "plt.savefig('Images/Colorado/TotalColoradoCost.png')"
   ]
  },
  {
   "cell_type": "code",
   "execution_count": 63,
   "metadata": {},
   "outputs": [
    {
     "data": {
      "image/png": "[encoded data removed]",
      "text/plain": [
       "<Figure size 432x288 with 1 Axes>"
      ]
     },
     "metadata": {
      "needs_background": "light"
     },
     "output_type": "display_data"
    }
   ],
   "source": [
    "plt.plot(network.loads_t.p['load'][5000:5096], color='black', label='demand')#these are 96 hours of data in the middle\n",
    "plt.plot(network.generators_t.p['onshorewind'][5000:5096], color='blue', label='onshore wind')\n",
    "plt.plot(network.generators_t.p['solar'][5000:5096], color='orange', label='solar')\n",
    "plt.plot(network.generators_t.p['OCGT'][5000:5096], color='brown', label='gas (OCGT)')\n",
    "plt.legend(fancybox=True, shadow=True, loc='best')\n",
    "plt.savefig('Images/ColoradoZeroCostJuly.png')"
   ]
  },
  {
   "cell_type": "markdown",
   "metadata": {},
   "source": [
    "Below is the same sort of time series but for the entire year"
   ]
  },
  {
   "cell_type": "code",
   "execution_count": null,
   "metadata": {},
   "outputs": [],
   "source": []
  },
  {
   "cell_type": "code",
   "execution_count": 64,
   "metadata": {},
   "outputs": [
    {
     "name": "stdout",
     "output_type": "stream",
     "text": [
      "23431976.852039102\n"
     ]
    },
    {
     "data": {
      "text/plain": [
       "Text(0.5, 1.07, 'Electricity mix')"
      ]
     },
     "execution_count": 64,
     "metadata": {},
     "output_type": "execute_result"
    },
    {
     "data": {
      "image/png": "[encoded data removed]",
      "text/plain": [
       "<Figure size 432x288 with 1 Axes>"
      ]
     },
     "metadata": {},
     "output_type": "display_data"
    }
   ],
   "source": [
    "labels = ['onshore wind', \n",
    "          'solar', \n",
    "          'gas (OCGT)']\n",
    "sizes = [network.generators_t.p['onshorewind'].sum(),\n",
    "         network.generators_t.p['solar'].sum(),\n",
    "         network.generators_t.p['OCGT'].sum()]\n",
    "\n",
    "colors=['blue', 'orange', 'brown']\n",
    "print(network.generators_t.p['OCGT'].sum())\n",
    "plt.pie(sizes, \n",
    "        colors=colors, \n",
    "        labels=labels, \n",
    "        wedgeprops={'linewidth':0})\n",
    "plt.axis('equal')\n",
    "\n",
    "plt.title('Electricity mix', y=1.07)"
   ]
  },
  {
   "cell_type": "markdown",
   "metadata": {},
   "source": [
    "We can add a global CO2 constraint and solve again."
   ]
  },
  {
   "cell_type": "code",
   "execution_count": 65,
   "metadata": {},
   "outputs": [],
   "source": [
    "co2_limit=400000 #tonCO2 #global as in system global\n",
    "network.add(\"GlobalConstraint\",\n",
    "            \"co2_limit\",\n",
    "            type=\"primary_energy\",\n",
    "            carrier_attribute=\"co2_emissions\",\n",
    "            sense=\"<=\",\n",
    "            constant=co2_limit)"
   ]
  },
  {
   "cell_type": "code",
   "execution_count": 66,
   "metadata": {},
   "outputs": [
    {
     "name": "stderr",
     "output_type": "stream",
     "text": [
      "INFO:pypsa.linopf:Prepare linear problem\n",
      "INFO:pypsa.linopf:Total preparation time: 2.19s\n",
      "INFO:pypsa.linopf:Solve linear problem using Gurobi solver\n"
     ]
    },
    {
     "name": "stdout",
     "output_type": "stream",
     "text": [
      "Read LP format model from file /var/folders/x3/vnc5_2m96vsfhyjnwg076wzr0000gn/T/pypsa-problem-anzj4u2p.lp\n",
      "Reading time = 0.30 seconds\n",
      "obj: 61321 rows, 26284 columns, 109453 nonzeros\n",
      "Gurobi Optimizer version 9.1.2 build v9.1.2rc0 (mac64)\n",
      "Thread count: 4 physical cores, 8 logical processors, using up to 8 threads\n",
      "Optimize a model with 61321 rows, 26284 columns and 109453 nonzeros\n",
      "Model fingerprint: 0xbaef0e2a\n",
      "Coefficient statistics:\n",
      "  Matrix range     [1e-03, 1e+00]\n",
      "  Objective range  [1e+00, 9e+04]\n",
      "  Bounds range     [0e+00, 0e+00]\n",
      "  RHS range        [5e+03, 4e+05]\n",
      "\n",
      "Concurrent LP optimizer: dual simplex and barrier\n",
      "Showing barrier log only...\n",
      "\n",
      "Presolve removed 35134 rows and 8855 columns\n",
      "Presolve time: 0.14s\n",
      "Presolved: 26187 rows, 17429 columns, 65465 nonzeros\n",
      "\n",
      "Ordering time: 0.01s\n",
      "\n",
      "Barrier statistics:\n",
      " Dense cols : 3\n",
      " AA' NZ     : 5.680e+04\n",
      " Factor NZ  : 1.526e+05 (roughly 20 MBytes of memory)\n",
      " Factor Ops : 9.386e+05 (less than 1 second per iteration)\n",
      " Threads    : 1\n",
      "\n",
      "                  Objective                Residual\n",
      "Iter       Primal          Dual         Primal    Dual     Compl     Time\n",
      "   0  -1.32110481e+11 -3.66471533e+10  7.07e+05 0.00e+00  1.16e+09     0s\n",
      "   1   7.22766172e+10 -1.24225846e+11  1.02e+05 1.84e+03  2.59e+08     0s\n",
      "   2   1.22197831e+11 -1.61377357e+11  3.86e+03 6.97e+01  1.58e+07     0s\n",
      "   3   6.25446603e+10 -4.97564382e+10  4.00e+02 5.04e+00  3.07e+06     0s\n",
      "   4   2.16777230e+10 -5.66329879e+09  8.85e+01 2.81e-01  6.62e+05     0s\n",
      "   5   1.40729426e+10 -1.59878992e+09  4.39e+01 4.11e-02  3.72e+05     0s\n",
      "   6   1.15437661e+10 -1.02611662e+09  3.06e+01 1.99e-02  2.97e+05     0s\n",
      "   7   1.07087786e+10 -3.60673635e+08  2.57e+01 7.41e-04  2.61e+05     0s\n",
      "   8   9.63527195e+09  5.04881256e+08  1.96e+01 3.93e-10  2.14e+05     0s\n",
      "   9   9.07822215e+09  1.87269334e+09  1.66e+01 8.44e-10  1.69e+05     0s\n",
      "  10   8.62713765e+09  2.25895574e+09  1.41e+01 4.80e-10  1.49e+05     0s\n",
      "  11   8.35193028e+09  3.37418540e+09  1.27e+01 8.59e-10  1.17e+05     0s\n",
      "  12   7.76065967e+09  4.06741400e+09  9.59e+00 4.95e-10  8.69e+04     0s\n",
      "  13   7.58489227e+09  4.34532055e+09  8.47e+00 4.95e-10  7.62e+04     1s\n",
      "  14   7.30008891e+09  4.66677529e+09  6.59e+00 3.35e-10  6.19e+04     1s\n",
      "  15   7.20239335e+09  4.96649277e+09  5.81e+00 7.28e-12  5.27e+04     1s\n",
      "  16   7.08763775e+09  5.56614758e+09  4.84e+00 3.35e-10  3.61e+04     1s\n",
      "  17   7.00258676e+09  5.91873686e+09  3.70e+00 1.96e-10  2.58e+04     1s\n",
      "  18   6.88851917e+09  6.03641670e+09  2.25e+00 3.78e-10  2.01e+04     1s\n",
      "  19   6.84171038e+09  6.28266915e+09  1.61e+00 2.40e-10  1.32e+04     1s\n",
      "  20   6.81180343e+09  6.40378116e+09  1.18e+00 1.24e-10  9.67e+03     1s\n",
      "  21   6.79324692e+09  6.51065513e+09  8.84e-01 3.57e-10  6.72e+03     1s\n",
      "  22   6.76879062e+09  6.63937391e+09  5.48e-01 6.55e-11  3.11e+03     1s\n",
      "  23   6.75701339e+09  6.65160587e+09  3.71e-01 1.19e-11  2.52e+03     1s\n",
      "  24   6.74028371e+09  6.68781323e+09  9.91e-02 3.27e-10  1.23e+03     1s\n",
      "  25   6.73751984e+09  6.69326751e+09  6.08e-02 1.31e-10  1.03e+03     1s\n",
      "  26   6.73520939e+09  6.72455883e+09  2.96e-02 5.75e-10  2.52e+02     1s\n",
      "  27   6.73457967e+09  6.72623580e+09  2.01e-02 4.07e-10  1.97e+02     1s\n",
      "  28   6.73428326e+09  6.72661247e+09  1.65e-02 4.80e-10  1.80e+02     1s\n",
      "  29   6.73403882e+09  6.73137395e+09  1.37e-02 2.33e-12  6.47e+01     1s\n",
      "  30   6.73364836e+09  6.73228158e+09  9.07e-03 7.64e-10  3.37e+01     1s\n",
      "  31   6.73299659e+09  6.73281319e+09  1.71e-03 4.87e-10  4.66e+00     1s\n",
      "  32   6.73284014e+09  6.73282936e+09  2.89e-06 7.28e-11  2.47e-01     1s\n",
      "  33   6.73283852e+09  6.73283851e+09  7.76e-05 1.50e-08  1.62e-04     1s\n",
      "  34   6.73283852e+09  6.73283852e+09  8.31e-08 2.42e-08  2.11e-09     1s\n",
      "\n",
      "Barrier solved model in 34 iterations and 1.06 seconds\n",
      "Optimal objective 6.73283852e+09\n",
      "\n",
      "Crossover log...\n",
      "\n",
      "       4 DPushes remaining with DInf 0.0000000e+00                 1s\n",
      "       0 DPushes remaining with DInf 0.0000000e+00                 1s\n",
      "\n",
      "    4074 PPushes remaining with PInf 0.0000000e+00                 1s\n",
      "       0 PPushes remaining with PInf 0.0000000e+00                 1s\n",
      "\n",
      "  Push phase complete: Pinf 0.0000000e+00, Dinf 1.5550938e-10      1s\n",
      "\n",
      "Iteration    Objective       Primal Inf.    Dual Inf.      Time\n",
      "    4081    6.7328385e+09   0.000000e+00   0.000000e+00      1s\n",
      "\n",
      "Solved with barrier\n",
      "Solved in 4081 iterations and 1.28 seconds\n",
      "Optimal objective  6.732838519e+09\n"
     ]
    },
    {
     "name": "stderr",
     "output_type": "stream",
     "text": [
      "INFO:pypsa.linopf:Optimization successful. Objective value: 6.73e+09\n"
     ]
    },
    {
     "data": {
      "text/plain": [
       "('ok', 'optimal')"
      ]
     },
     "execution_count": 66,
     "metadata": {},
     "output_type": "execute_result"
    }
   ],
   "source": [
    "network.lopf(network.snapshots, \n",
    "             pyomo=False,\n",
    "             solver_name='gurobi')"
   ]
  },
  {
   "cell_type": "code",
   "execution_count": 67,
   "metadata": {},
   "outputs": [
    {
     "data": {
      "text/plain": [
       "onshorewind    57544.462710\n",
       "solar          19707.961271\n",
       "OCGT            9263.555373\n",
       "Name: p_nom_opt, dtype: float64"
      ]
     },
     "execution_count": 67,
     "metadata": {},
     "output_type": "execute_result"
    }
   ],
   "source": [
    "network.generators.p_nom_opt #in MW"
   ]
  },
  {
   "cell_type": "code",
   "execution_count": 68,
   "metadata": {},
   "outputs": [
    {
     "data": {
      "text/plain": [
       "<matplotlib.legend.Legend at 0x7fb8b3141640>"
      ]
     },
     "execution_count": 68,
     "metadata": {},
     "output_type": "execute_result"
    },
    {
     "data": {
      "image/png": "[encoded data removed]",
      "text/plain": [
       "<Figure size 432x288 with 1 Axes>"
      ]
     },
     "metadata": {
      "needs_background": "light"
     },
     "output_type": "display_data"
    }
   ],
   "source": [
    "import matplotlib.pyplot as plt\n",
    "\n",
    "plt.plot(network.loads_t.p['load'][0:96], color='black', label='demand')#why does the demand curve not go all the way? why is the gas curve so weird?\n",
    "plt.plot(network.generators_t.p['onshorewind'][0:96], color='blue', label='onshore wind')\n",
    "plt.plot(network.generators_t.p['solar'][0:96], color='orange', label='solar')\n",
    "plt.plot(network.generators_t.p['OCGT'][0:96], color='brown', label='gas (OCGT)')\n",
    "plt.legend(fancybox=True, shadow=True, loc='best')"
   ]
  },
  {
   "cell_type": "code",
   "execution_count": 69,
   "metadata": {},
   "outputs": [
    {
     "data": {
      "text/plain": [
       "Text(0.5, 1.07, 'Electricity mix')"
      ]
     },
     "execution_count": 69,
     "metadata": {},
     "output_type": "execute_result"
    },
    {
     "data": {
      "image/png": "[encoded data removed]",
      "text/plain": [
       "<Figure size 432x288 with 1 Axes>"
      ]
     },
     "metadata": {},
     "output_type": "display_data"
    }
   ],
   "source": [
    "labels = ['onshore wind', 'solar', 'gas (OCGT)' ]\n",
    "sizes = [network.generators_t.p['onshorewind'].sum(),\n",
    "         network.generators_t.p['solar'].sum(),\n",
    "         network.generators_t.p['OCGT'].sum()]\n",
    "\n",
    "colors = ['blue', 'orange', 'brown']\n",
    "\n",
    "plt.pie(sizes, \n",
    "        colors=colors, \n",
    "        labels=labels, \n",
    "        wedgeprops={'linewidth':0})\n",
    "plt.axis('equal')\n",
    "\n",
    "plt.title('Electricity mix', y=1.07)"
   ]
  },
  {
   "cell_type": "markdown",
   "metadata": {},
   "source": [
    "## PROJECT INSTRUCTIONS\n",
    "\n",
    "Based on the previous example, you are asked to carry out the following tasks:\n",
    "\n",
    "A. Choose a different country/region and calculate the optimal capacities for renewable and non-renewable generators. You can add as many technologies as you want. Remember to provide a reference for the cost assumptions. Plot the dispatch time series for a week in summer and winter. Plot the annual electricity mix. Use the duration curves or the capacity factor to investigate the contribution from different technologies. \n",
    "\n",
    "B. Investigate how sensitive is the optimum capacity mix to the global CO2 constraint. E.g., plot the generation mix as a function of the CO2 constraint that you impose. Search for the CO2 emissions in your country (today or in 1990) and refer the emissions allowance to that historical data. \n",
    "\n",
    "C. Investigate how sensitive are your results to the interannual variability of solar and wind generation. Plot the average capacity and variability obtained for every generator using different weather years. \n",
    "\n",
    "D. Add some storage technology/ies and investigate how they behave and what is their impact on the optimal system configuration. \n",
    "\n",
    "E. Discuss what strategies is your system using to balance the renewable generation at different time scales (intraday, seasonal, etc.) \n",
    "\n",
    "F. Select on target for decarbonization (i.e., one CO2 allowance limit). What is the CO2 price required to achieve that decarbonization level? Search for information on the existing CO2 tax in your country (if any) and discuss your result. \n",
    "\n",
    "G. Connect your country with, at least, two neighbour countries. You can assume that the capacities in the neighbours are fixed or cooptimize the whole system. You can also include fixed interconnection capacities or cooptimize them with the generators capacities. Discuss your results.\n",
    "\n",
    "H. Connect the electricity sector with another sector such as heating or transport, and cooptimize the two sectors. Discuss your results.\n",
    "\n",
    "I. Finally, select one topic that is under discussion in your region. Design and implement some experiment to obtain relevant information regarding that topic. E.g. \n",
    "\n",
    "[-] What are the consequences if Denmark decides not to install more onshore wind? \n",
    "\n",
    "[-] Would it be more expensive if France decides to close its nuclear power plants? \n",
    "\n",
    "[-] What will be the main impacts of the Viking link?\n",
    "\n",
    "Write a short report (maximum 10 pages) including your main findings."
   ]
  },
  {
   "cell_type": "code",
   "execution_count": 70,
   "metadata": {},
   "outputs": [],
   "source": [
    "###What is a duration curve?\n"
   ]
  },
  {
   "cell_type": "markdown",
   "metadata": {},
   "source": [
    "\n",
    "\n",
    "\n",
    "_TIP 1: You can add a link with the following code_\n",
    "\n",
    "The efficiency will be 1 if you are connecting two countries and different from one if, for example, you are connecting the electricity bus to the heating bus using a heat pump.\n",
    "Setting p_min_pu=-1 makes the link reversible.\n"
   ]
  },
  {
   "cell_type": "code",
   "execution_count": 71,
   "metadata": {},
   "outputs": [
    {
     "name": "stderr",
     "output_type": "stream",
     "text": [
      "WARNING:pypsa.components:The bus name `electricity bus country a` given for bus0 of Link `country a - country b` does not appear in network.buses\n",
      "WARNING:pypsa.components:The bus name `electricity bus country b` given for bus1 of Link `country a - country b` does not appear in network.buses\n"
     ]
    }
   ],
   "source": [
    "network.add(\"Link\",\n",
    "             'country a - country b',\n",
    "             bus0=\"electricity bus country a\",\n",
    "             bus1=\"electricity bus country b\",\n",
    "             p_nom_extendable=True, # capacity is optimised\n",
    "             p_min_pu=-1,\n",
    "             length=600, # length (in km) between country a and country b\n",
    "             capital_cost=400*600) # capital cost * length "
   ]
  },
  {
   "cell_type": "markdown",
   "metadata": {},
   "source": [
    "\n",
    "_TIP 2: You can check the KKT multiplier associated with the constraint with the following code_\n"
   ]
  },
  {
   "cell_type": "code",
   "execution_count": 72,
   "metadata": {},
   "outputs": [
    {
     "name": "stdout",
     "output_type": "stream",
     "text": [
      "co2_limit    400000.0\n",
      "Name: constant, dtype: float64\n",
      "co2_limit    6917.948367\n",
      "Name: mu, dtype: float64\n"
     ]
    }
   ],
   "source": [
    "print(network.global_constraints.constant) #CO2 limit (constant in the constraint)\n",
    "\n",
    "print(network.global_constraints.mu) #CO2 price (Lagrance multiplier in the constraint)"
   ]
  },
  {
   "cell_type": "markdown",
   "metadata": {},
   "source": [
    "TIP 3: You can add a H2 store connected to the electricity bus via an electrolyzer and a fuel cell with the following code. "
   ]
  },
  {
   "cell_type": "code",
   "execution_count": 73,
   "metadata": {},
   "outputs": [],
   "source": [
    "#Create a new carrier\n",
    "network.add(\"Carrier\",\n",
    "      \"H2\")\n",
    "\n",
    "#Create a new bus\n",
    "network.add(\"Bus\",\n",
    "      \"H2\",\n",
    "      carrier = \"H2\")\n",
    "\n",
    "#Connect the store to the bus\n",
    "network.add(\"Store\",\n",
    "      \"H2 Tank\",\n",
    "      bus = \"H2\",\n",
    "      e_nom_extendable = True,\n",
    "      e_cyclic = True,\n",
    "      capital_cost = annuity(25, 0.07)*57000*(1+0.011))\n",
    "\n",
    "#Add the link \"H2 Electrolysis\" that transport energy from the electricity bus (bus0) to the H2 bus (bus1)\n",
    "#with 80% efficiency\n",
    "network.add(\"Link\",\n",
    "      \"H2 Electrolysis\", \n",
    "      bus0 = \"electricity bus\",\n",
    "      bus1 = \"H2\",     \n",
    "      p_nom_extendable = True,\n",
    "      efficiency = 0.8,\n",
    "      capital_cost = annuity(25, 0.07)*600000*(1+0.05))\n",
    "\n",
    "#Add the link \"H2 Fuel Cell\" that transports energy from the H2 bus (bus0) to the electricity bus (bus1)\n",
    "#with 58% efficiency\n",
    "network.add(\"Link\",\n",
    "      \"H2 Fuel Cell\", \n",
    "      bus0 = \"H2\",\n",
    "      bus1 = \"electricity bus\",     \n",
    "      p_nom_extendable = True,\n",
    "      efficiency = 0.58,\n",
    "      capital_cost = annuity(10, 0.07)*1300000*(1+0.05)) \n"
   ]
  },
  {
   "cell_type": "code",
   "execution_count": null,
   "metadata": {},
   "outputs": [],
   "source": []
  }
 ],
 "metadata": {
  "kernelspec": {
   "display_name": "Python 3 (ipykernel)",
   "language": "python",
   "name": "python3"
  },
  "language_info": {
   "codemirror_mode": {
    "name": "ipython",
    "version": 3
   },
   "file_extension": ".py",
   "mimetype": "text/x-python",
   "name": "python",
   "nbconvert_exporter": "python",
   "pygments_lexer": "ipython3",
   "version": "3.8.11"
  }
 },
 "nbformat": 4,
 "nbformat_minor": 1
}
